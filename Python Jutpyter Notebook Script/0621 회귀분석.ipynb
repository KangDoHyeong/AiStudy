{
 "cells": [
  {
   "cell_type": "code",
   "execution_count": 2,
   "metadata": {},
   "outputs": [],
   "source": [
    "import numpy as np\n",
    "import pandas as pd\n",
    "import matplotlib\n",
    "import matplotlib.pyplot as plt\n",
    "from mpl_toolkits.mplot3d import Axes3D\n",
    "from math import log\n",
    "import operator"
   ]
  },
  {
   "cell_type": "code",
   "execution_count": 3,
   "metadata": {},
   "outputs": [],
   "source": [
    "import random"
   ]
  },
  {
   "cell_type": "code",
   "execution_count": 4,
   "metadata": {},
   "outputs": [],
   "source": [
    "np.random.seed(seed=1)"
   ]
  },
  {
   "cell_type": "code",
   "execution_count": 16,
   "metadata": {},
   "outputs": [],
   "source": [
    "X_min=4\n",
    "X_max=30\n",
    "X_n = 16\n",
    "X = 5 + 25 * np.random.rand(X_n)\n",
    "Prm_c = [170, 108, 0.2]\n",
    "T = Prm_c[0] - Prm_c[1] * np.exp(-Prm_c[2]*X)+4 * np.random.randn(X_n)\n",
    "np.savez('ch5_data.npz',X=X,X_min=X_min,X_max=X_max,X_n=X_n, T=T)\n"
   ]
  },
  {
   "cell_type": "code",
   "execution_count": 17,
   "metadata": {},
   "outputs": [
    {
     "name": "stdout",
     "output_type": "stream",
     "text": [
      "[173.59095807 165.61093527 172.55120131 167.55677621 168.01914261\n",
      " 147.66728572 170.46433696 167.63035436 166.19912729 165.56163412\n",
      " 161.08399518 172.8161649  168.58729123 132.52226932 170.51211768\n",
      " 160.59975669]\n"
     ]
    }
   ],
   "source": [
    "print(T)"
   ]
  },
  {
   "cell_type": "code",
   "execution_count": 18,
   "metadata": {},
   "outputs": [
    {
     "data": {
      "text/plain": [
       "array([27.39715545, 15.70227975, 29.12100118, 21.58603745, 20.54239301,\n",
       "        7.86864932, 28.73723147, 16.24780334, 19.45974036, 15.20342007,\n",
       "       10.92567451, 27.58448801, 19.34198717,  5.07175818, 20.42862284,\n",
       "       13.16612254])"
      ]
     },
     "execution_count": 18,
     "metadata": {},
     "output_type": "execute_result"
    }
   ],
   "source": [
    "X"
   ]
  },
  {
   "cell_type": "code",
   "execution_count": 19,
   "metadata": {},
   "outputs": [
    {
     "data": {
      "image/png": "[encoded data removed]",
      "text/plain": [
       "<Figure size 432x288 with 1 Axes>"
      ]
     },
     "metadata": {
      "needs_background": "light"
     },
     "output_type": "display_data"
    }
   ],
   "source": [
    "plt.plot(X,T,marker='o', linestyle='None',markeredgecolor='black', color='cornflowerblue')\n",
    "plt.xlim=(X_min,X_max)\n",
    "plt.grid(True)\n",
    "plt.show()"
   ]
  },
  {
   "cell_type": "code",
   "execution_count": 27,
   "metadata": {},
   "outputs": [
    {
     "data": {
      "text/plain": [
       "array([ 9.27834752,  1.25045215, 18.52388889,  7.46700605,  5.1089532 ,\n",
       "       24.54391603, 22.3255303 , 18.98371987, 16.27801397,  0.99208755])"
      ]
     },
     "execution_count": 27,
     "metadata": {},
     "output_type": "execute_result"
    }
   ],
   "source": [
    "np.random.rand(10)*25"
   ]
  },
  {
   "cell_type": "code",
   "execution_count": 30,
   "metadata": {},
   "outputs": [],
   "source": [
    "def dmse_line(x,t,w):\n",
    "    y = w[0]*x + w[1]\n",
    "    d_w0 = 2 * np.mean((y-t)*x)\n",
    "    d_w1 = 2* np.mean(y-t)\n",
    "    return d_w0, d_w1"
   ]
  },
  {
   "cell_type": "code",
   "execution_count": 32,
   "metadata": {},
   "outputs": [
    {
     "name": "stdout",
     "output_type": "stream",
     "text": [
      "[7855.7  374.1]\n"
     ]
    }
   ],
   "source": [
    "d_w = dmse_line(X,T,[10,165])\n",
    "print(np.round(d_w,1))"
   ]
  },
  {
   "cell_type": "code",
   "execution_count": 33,
   "metadata": {},
   "outputs": [],
   "source": [
    "def fit_line_num(x,t):\n",
    "    w_init = [10.0, 165.0]\n",
    "    alpha = 0.001\n",
    "    i_max = 100000\n",
    "    eps = 0.1\n",
    "    w_i = np.zeros([i_max,2])\n",
    "    w_i[0,:] = w_init\n",
    "    for i in range(1, i_max):\n",
    "        dmse = dmse_line(x,t,w_i[i-1])\n",
    "        w_i[i,0] = w_i[i -1, 0] - alpha * dmse[0]\n",
    "        w_i[i,1] = w_i[i-1,1]- alpha * dmse[1]\n",
    "        if max(np.absolute(dmse))<eps:\n",
    "            break\n",
    "    w0 = w_i[i,0]\n",
    "    w1=w_i[i,0]\n",
    "    w_i = w_i[:i,:]\n",
    "    return w0, w1, dmse, w_i"
   ]
  },
  {
   "cell_type": "code",
   "execution_count": 36,
   "metadata": {},
   "outputs": [],
   "source": [
    "def mse_line(x,t,w):\n",
    "    y = w[0] * x + w[1]\n",
    "    mse = np.mean((y-t)**2)\n",
    "    return mse"
   ]
  },
  {
   "cell_type": "code",
   "execution_count": 44,
   "metadata": {},
   "outputs": [
    {
     "name": "stdout",
     "output_type": "stream",
     "text": [
      "반복횟수 16131\n",
      "W=[1.202214, 1.202214]\n",
      "dMSE=[-0.004688,0.099989]\n",
      "MSE=19858.508143\n"
     ]
    },
    {
     "data": {
      "image/png": "[encoded data removed]",
      "text/plain": [
       "<Figure size 288x288 with 1 Axes>"
      ]
     },
     "metadata": {
      "needs_background": "light"
     },
     "output_type": "display_data"
    }
   ],
   "source": [
    "plt.figure(figsize=(4,4))\n",
    "xn = 100\n",
    "w0_range = [-25, 25]\n",
    "w1_range = [120, 170]\n",
    "x0 = np.linspace(w0_range[0], w0_range[1],xn)\n",
    "x1 = np.linspace(w1_range[0], w1_range[1],xn)\n",
    "xx0,xx1 = np.meshgrid(x0,x1)\n",
    "J = np.zeros((len(x0), len(x1)))\n",
    "for i0 in range(xn):\n",
    "    for i1 in range(xn):\n",
    "        J[i1,i0]= mse_line(X,T,(x0[i0],x1[i1]))\n",
    "cont = plt.contour(xx0, xx1, J, 30, colors='black', levels=(100,1000,10000,100000))\n",
    "cont.clabel(fmt='%1.f', fontsize=8)\n",
    "plt.grid(True)\n",
    "W0,W1,dMSE, W_history = fit_line_num(X,T)\n",
    "print('반복횟수 {0}'.format(W_history.shape[0]))\n",
    "print('W=[{0:6f}, {1:.6f}]'.format(W0,W1))\n",
    "print('dMSE=[{0:.6f},{1:.6f}]'.format(dMSE[0],dMSE[1]))\n",
    "print('MSE={0:.6f}'.format(mse_line(X,T,[W0,W1])))\n",
    "plt.plot(W_history[:,0],W_history[:,1],'.-',color='gray',markersize=10,markeredgecolor='cornflowerblue')\n",
    "plt.show()"
   ]
  },
  {
   "cell_type": "code",
   "execution_count": 45,
   "metadata": {},
   "outputs": [
    {
     "data": {
      "text/plain": [
       "2401"
      ]
     },
     "execution_count": 45,
     "metadata": {},
     "output_type": "execute_result"
    }
   ],
   "source": [
    "49*49"
   ]
  }
 ],
 "metadata": {
  "kernelspec": {
   "display_name": "Python 3",
   "language": "python",
   "name": "python3"
  },
  "language_info": {
   "codemirror_mode": {
    "name": "ipython",
    "version": 3
   },
   "file_extension": ".py",
   "mimetype": "text/x-python",
   "name": "python",
   "nbconvert_exporter": "python",
   "pygments_lexer": "ipython3",
   "version": "3.7.3"
  }
 },
 "nbformat": 4,
 "nbformat_minor": 2
}

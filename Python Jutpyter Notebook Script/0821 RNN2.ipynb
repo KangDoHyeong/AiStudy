{
 "cells": [
  {
   "cell_type": "code",
   "execution_count": 1,
   "metadata": {},
   "outputs": [],
   "source": [
    "from keras_preprocessing.text import Tokenizer"
   ]
  },
  {
   "cell_type": "code",
   "execution_count": 2,
   "metadata": {},
   "outputs": [],
   "source": [
    "t = Tokenizer()"
   ]
  },
  {
   "cell_type": "code",
   "execution_count": 3,
   "metadata": {},
   "outputs": [],
   "source": [
    "text ='''\n",
    "경마장에 있는 말이 뛰고 있다.\\n\n",
    "그의 말이 법이다. \\n\n",
    "가는 말이 고와야 오는 말이 곱다.\\n'''"
   ]
  },
  {
   "cell_type": "code",
   "execution_count": 5,
   "metadata": {},
   "outputs": [],
   "source": [
    "t.fit_on_texts([text])\n",
    "encode = t.texts_to_sequences([text])"
   ]
  },
  {
   "cell_type": "code",
   "execution_count": 6,
   "metadata": {},
   "outputs": [],
   "source": [
    "vocab_size = len(t.word_index) +1"
   ]
  },
  {
   "cell_type": "code",
   "execution_count": 7,
   "metadata": {},
   "outputs": [
    {
     "name": "stdout",
     "output_type": "stream",
     "text": [
      "단어 집합의 크기 : 12\n"
     ]
    }
   ],
   "source": [
    "print('단어 집합의 크기 : %d'%vocab_size)"
   ]
  },
  {
   "cell_type": "code",
   "execution_count": 8,
   "metadata": {},
   "outputs": [
    {
     "name": "stdout",
     "output_type": "stream",
     "text": [
      "{'말이': 1, '경마장에': 2, '있는': 3, '뛰고': 4, '있다': 5, '그의': 6, '법이다': 7, '가는': 8, '고와야': 9, '오는': 10, '곱다': 11}\n"
     ]
    }
   ],
   "source": [
    "print(t.word_index)"
   ]
  },
  {
   "cell_type": "code",
   "execution_count": 11,
   "metadata": {},
   "outputs": [
    {
     "name": "stdout",
     "output_type": "stream",
     "text": [
      "훈련 데이터의 수 : 11\n"
     ]
    }
   ],
   "source": [
    "sequences = list()\n",
    "for line in text.split('\\n'):\n",
    "    encoded = t.texts_to_sequences([line])[0]\n",
    "    for i in range(1, len(encoded)):\n",
    "        sequence = encoded[:i+1]\n",
    "        sequences.append(sequence)\n",
    "print('훈련 데이터의 수 : %d'%len(sequences))"
   ]
  },
  {
   "cell_type": "code",
   "execution_count": 14,
   "metadata": {},
   "outputs": [
    {
     "name": "stdout",
     "output_type": "stream",
     "text": [
      "6\n"
     ]
    }
   ],
   "source": [
    "# 모든 데이터에서 길이가 가장 긴 데이터의 길이 출력\n",
    "print(max(len(l) for l in sequences))"
   ]
  },
  {
   "cell_type": "code",
   "execution_count": 16,
   "metadata": {},
   "outputs": [
    {
     "name": "stderr",
     "output_type": "stream",
     "text": [
      "Using TensorFlow backend.\n"
     ]
    }
   ],
   "source": [
    "from keras.preprocessing.sequence import pad_sequences\n",
    "sequences = pad_sequences(sequences, maxlen =6, padding='pre')"
   ]
  },
  {
   "cell_type": "code",
   "execution_count": 17,
   "metadata": {},
   "outputs": [
    {
     "name": "stdout",
     "output_type": "stream",
     "text": [
      "[[ 0  0  0  0  2  3]\n",
      " [ 0  0  0  2  3  1]\n",
      " [ 0  0  2  3  1  4]\n",
      " [ 0  2  3  1  4  5]\n",
      " [ 0  0  0  0  6  1]\n",
      " [ 0  0  0  6  1  7]\n",
      " [ 0  0  0  0  8  1]\n",
      " [ 0  0  0  8  1  9]\n",
      " [ 0  0  8  1  9 10]\n",
      " [ 0  8  1  9 10  1]\n",
      " [ 8  1  9 10  1 11]]\n"
     ]
    }
   ],
   "source": [
    "print(sequences)"
   ]
  },
  {
   "cell_type": "code",
   "execution_count": 18,
   "metadata": {},
   "outputs": [],
   "source": [
    "import numpy as np\n",
    "sequences = np.array(sequences)\n",
    "X = sequences[:,:-1]\n",
    "y = sequences[:,-1]"
   ]
  },
  {
   "cell_type": "code",
   "execution_count": 19,
   "metadata": {},
   "outputs": [
    {
     "name": "stdout",
     "output_type": "stream",
     "text": [
      "[[ 0  0  0  0  2]\n",
      " [ 0  0  0  2  3]\n",
      " [ 0  0  2  3  1]\n",
      " [ 0  2  3  1  4]\n",
      " [ 0  0  0  0  6]\n",
      " [ 0  0  0  6  1]\n",
      " [ 0  0  0  0  8]\n",
      " [ 0  0  0  8  1]\n",
      " [ 0  0  8  1  9]\n",
      " [ 0  8  1  9 10]\n",
      " [ 8  1  9 10  1]]\n"
     ]
    }
   ],
   "source": [
    "print(X)"
   ]
  },
  {
   "cell_type": "code",
   "execution_count": 20,
   "metadata": {},
   "outputs": [
    {
     "name": "stdout",
     "output_type": "stream",
     "text": [
      "[ 3  1  4  5  1  7  1  9 10  1 11]\n"
     ]
    }
   ],
   "source": [
    "print(y)"
   ]
  },
  {
   "cell_type": "code",
   "execution_count": 22,
   "metadata": {},
   "outputs": [],
   "source": [
    "from keras.utils import to_categorical"
   ]
  },
  {
   "cell_type": "code",
   "execution_count": 23,
   "metadata": {},
   "outputs": [],
   "source": [
    "y = to_categorical(y,num_classes = vocab_size)"
   ]
  },
  {
   "cell_type": "code",
   "execution_count": 25,
   "metadata": {},
   "outputs": [
    {
     "name": "stdout",
     "output_type": "stream",
     "text": [
      "[[0. 0. 0. 1. 0. 0. 0. 0. 0. 0. 0. 0.]\n",
      " [0. 1. 0. 0. 0. 0. 0. 0. 0. 0. 0. 0.]\n",
      " [0. 0. 0. 0. 1. 0. 0. 0. 0. 0. 0. 0.]\n",
      " [0. 0. 0. 0. 0. 1. 0. 0. 0. 0. 0. 0.]\n",
      " [0. 1. 0. 0. 0. 0. 0. 0. 0. 0. 0. 0.]\n",
      " [0. 0. 0. 0. 0. 0. 0. 1. 0. 0. 0. 0.]\n",
      " [0. 1. 0. 0. 0. 0. 0. 0. 0. 0. 0. 0.]\n",
      " [0. 0. 0. 0. 0. 0. 0. 0. 0. 1. 0. 0.]\n",
      " [0. 0. 0. 0. 0. 0. 0. 0. 0. 0. 1. 0.]\n",
      " [0. 1. 0. 0. 0. 0. 0. 0. 0. 0. 0. 0.]\n",
      " [0. 0. 0. 0. 0. 0. 0. 0. 0. 0. 0. 1.]]\n"
     ]
    }
   ],
   "source": [
    "print(y)"
   ]
  },
  {
   "cell_type": "code",
   "execution_count": 31,
   "metadata": {
    "scrolled": true
   },
   "outputs": [
    {
     "name": "stderr",
     "output_type": "stream",
     "text": [
      "W0821 14:32:24.553462  2752 deprecation.py:323] From c:\\users\\fire7\\appdata\\local\\programs\\python\\python37\\lib\\site-packages\\tensorflow\\python\\ops\\math_grad.py:1250: add_dispatch_support.<locals>.wrapper (from tensorflow.python.ops.array_ops) is deprecated and will be removed in a future version.\n",
      "Instructions for updating:\n",
      "Use tf.where in 2.0, which has the same broadcast rule as np.where\n",
      "W0821 14:32:24.815670  2752 deprecation_wrapper.py:119] From c:\\users\\fire7\\appdata\\local\\programs\\python\\python37\\lib\\site-packages\\keras\\backend\\tensorflow_backend.py:986: The name tf.assign_add is deprecated. Please use tf.compat.v1.assign_add instead.\n",
      "\n"
     ]
    },
    {
     "name": "stdout",
     "output_type": "stream",
     "text": [
      "Epoch 1/200\n",
      " - 1s - loss: 2.5039 - acc: 0.0000e+00\n",
      "Epoch 2/200\n",
      " - 0s - loss: 2.4895 - acc: 0.0000e+00\n",
      "Epoch 3/200\n",
      " - 0s - loss: 2.4776 - acc: 0.0000e+00\n",
      "Epoch 4/200\n",
      " - 0s - loss: 2.4653 - acc: 0.0909\n",
      "Epoch 5/200\n",
      " - 0s - loss: 2.4529 - acc: 0.0909\n",
      "Epoch 6/200\n",
      " - 0s - loss: 2.4403 - acc: 0.1818\n",
      "Epoch 7/200\n",
      " - 0s - loss: 2.4274 - acc: 0.2727\n",
      "Epoch 8/200\n",
      " - 0s - loss: 2.4143 - acc: 0.3636\n",
      "Epoch 9/200\n",
      " - 0s - loss: 2.4008 - acc: 0.3636\n",
      "Epoch 10/200\n",
      " - 0s - loss: 2.3868 - acc: 0.3636\n",
      "Epoch 11/200\n",
      " - 0s - loss: 2.3722 - acc: 0.4545\n",
      "Epoch 12/200\n",
      " - 0s - loss: 2.3569 - acc: 0.4545\n",
      "Epoch 13/200\n",
      " - 0s - loss: 2.3408 - acc: 0.4545\n",
      "Epoch 14/200\n",
      " - 0s - loss: 2.3239 - acc: 0.4545\n",
      "Epoch 15/200\n",
      " - 0s - loss: 2.3061 - acc: 0.4545\n",
      "Epoch 16/200\n",
      " - 0s - loss: 2.2873 - acc: 0.4545\n",
      "Epoch 17/200\n",
      " - 0s - loss: 2.2677 - acc: 0.3636\n",
      "Epoch 18/200\n",
      " - 0s - loss: 2.2469 - acc: 0.3636\n",
      "Epoch 19/200\n",
      " - 0s - loss: 2.2252 - acc: 0.3636\n",
      "Epoch 20/200\n",
      " - 0s - loss: 2.2026 - acc: 0.3636\n",
      "Epoch 21/200\n",
      " - 0s - loss: 2.1790 - acc: 0.3636\n",
      "Epoch 22/200\n",
      " - 0s - loss: 2.1546 - acc: 0.3636\n",
      "Epoch 23/200\n",
      " - 0s - loss: 2.1298 - acc: 0.3636\n",
      "Epoch 24/200\n",
      " - 0s - loss: 2.1043 - acc: 0.3636\n",
      "Epoch 25/200\n",
      " - 0s - loss: 2.0788 - acc: 0.3636\n",
      "Epoch 26/200\n",
      " - 0s - loss: 2.0537 - acc: 0.3636\n",
      "Epoch 27/200\n",
      " - 0s - loss: 2.0290 - acc: 0.3636\n",
      "Epoch 28/200\n",
      " - 0s - loss: 2.0053 - acc: 0.3636\n",
      "Epoch 29/200\n",
      " - 0s - loss: 1.9831 - acc: 0.3636\n",
      "Epoch 30/200\n",
      " - 0s - loss: 1.9627 - acc: 0.3636\n",
      "Epoch 31/200\n",
      " - 0s - loss: 1.9445 - acc: 0.3636\n",
      "Epoch 32/200\n",
      " - 0s - loss: 1.9283 - acc: 0.3636\n",
      "Epoch 33/200\n",
      " - 0s - loss: 1.9142 - acc: 0.3636\n",
      "Epoch 34/200\n",
      " - 0s - loss: 1.9016 - acc: 0.3636\n",
      "Epoch 35/200\n",
      " - 0s - loss: 1.8902 - acc: 0.3636\n",
      "Epoch 36/200\n",
      " - 0s - loss: 1.8791 - acc: 0.3636\n",
      "Epoch 37/200\n",
      " - 0s - loss: 1.8678 - acc: 0.3636\n",
      "Epoch 38/200\n",
      " - 0s - loss: 1.8557 - acc: 0.3636\n",
      "Epoch 39/200\n",
      " - 0s - loss: 1.8429 - acc: 0.3636\n",
      "Epoch 40/200\n",
      " - 0s - loss: 1.8292 - acc: 0.3636\n",
      "Epoch 41/200\n",
      " - 0s - loss: 1.8144 - acc: 0.3636\n",
      "Epoch 42/200\n",
      " - 0s - loss: 1.7989 - acc: 0.3636\n",
      "Epoch 43/200\n",
      " - 0s - loss: 1.7829 - acc: 0.3636\n",
      "Epoch 44/200\n",
      " - 0s - loss: 1.7668 - acc: 0.3636\n",
      "Epoch 45/200\n",
      " - 0s - loss: 1.7505 - acc: 0.3636\n",
      "Epoch 46/200\n",
      " - 0s - loss: 1.7341 - acc: 0.3636\n",
      "Epoch 47/200\n",
      " - 0s - loss: 1.7177 - acc: 0.3636\n",
      "Epoch 48/200\n",
      " - 0s - loss: 1.7016 - acc: 0.3636\n",
      "Epoch 49/200\n",
      " - 0s - loss: 1.6854 - acc: 0.3636\n",
      "Epoch 50/200\n",
      " - 0s - loss: 1.6691 - acc: 0.3636\n",
      "Epoch 51/200\n",
      " - 0s - loss: 1.6527 - acc: 0.3636\n",
      "Epoch 52/200\n",
      " - 0s - loss: 1.6361 - acc: 0.4545\n",
      "Epoch 53/200\n",
      " - 0s - loss: 1.6193 - acc: 0.5455\n",
      "Epoch 54/200\n",
      " - 0s - loss: 1.6021 - acc: 0.5455\n",
      "Epoch 55/200\n",
      " - 0s - loss: 1.5845 - acc: 0.5455\n",
      "Epoch 56/200\n",
      " - 0s - loss: 1.5666 - acc: 0.5455\n",
      "Epoch 57/200\n",
      " - 0s - loss: 1.5481 - acc: 0.5455\n",
      "Epoch 58/200\n",
      " - 0s - loss: 1.5293 - acc: 0.5455\n",
      "Epoch 59/200\n",
      " - 0s - loss: 1.5100 - acc: 0.5455\n",
      "Epoch 60/200\n",
      " - 0s - loss: 1.4906 - acc: 0.5455\n",
      "Epoch 61/200\n",
      " - 0s - loss: 1.4707 - acc: 0.5455\n",
      "Epoch 62/200\n",
      " - 0s - loss: 1.4505 - acc: 0.5455\n",
      "Epoch 63/200\n",
      " - 0s - loss: 1.4300 - acc: 0.5455\n",
      "Epoch 64/200\n",
      " - 0s - loss: 1.4096 - acc: 0.5455\n",
      "Epoch 65/200\n",
      " - 0s - loss: 1.3889 - acc: 0.5455\n",
      "Epoch 66/200\n",
      " - 0s - loss: 1.3680 - acc: 0.5455\n",
      "Epoch 67/200\n",
      " - 0s - loss: 1.3469 - acc: 0.5455\n",
      "Epoch 68/200\n",
      " - 0s - loss: 1.3257 - acc: 0.5455\n",
      "Epoch 69/200\n",
      " - 0s - loss: 1.3045 - acc: 0.5455\n",
      "Epoch 70/200\n",
      " - 0s - loss: 1.2831 - acc: 0.5455\n",
      "Epoch 71/200\n",
      " - 0s - loss: 1.2618 - acc: 0.5455\n",
      "Epoch 72/200\n",
      " - 0s - loss: 1.2403 - acc: 0.5455\n",
      "Epoch 73/200\n",
      " - 0s - loss: 1.2190 - acc: 0.5455\n",
      "Epoch 74/200\n",
      " - 0s - loss: 1.1975 - acc: 0.5455\n",
      "Epoch 75/200\n",
      " - 0s - loss: 1.1760 - acc: 0.5455\n",
      "Epoch 76/200\n",
      " - 0s - loss: 1.1547 - acc: 0.5455\n",
      "Epoch 77/200\n",
      " - 0s - loss: 1.1336 - acc: 0.5455\n",
      "Epoch 78/200\n",
      " - 0s - loss: 1.1124 - acc: 0.5455\n",
      "Epoch 79/200\n",
      " - 0s - loss: 1.0913 - acc: 0.5455\n",
      "Epoch 80/200\n",
      " - 0s - loss: 1.0705 - acc: 0.6364\n",
      "Epoch 81/200\n",
      " - 0s - loss: 1.0497 - acc: 0.6364\n",
      "Epoch 82/200\n",
      " - 0s - loss: 1.0291 - acc: 0.6364\n",
      "Epoch 83/200\n",
      " - 0s - loss: 1.0087 - acc: 0.7273\n",
      "Epoch 84/200\n",
      " - 0s - loss: 0.9885 - acc: 0.7273\n",
      "Epoch 85/200\n",
      " - 0s - loss: 0.9685 - acc: 0.8182\n",
      "Epoch 86/200\n",
      " - 0s - loss: 0.9486 - acc: 0.8182\n",
      "Epoch 87/200\n",
      " - 0s - loss: 0.9289 - acc: 0.8182\n",
      "Epoch 88/200\n",
      " - 0s - loss: 0.9094 - acc: 0.8182\n",
      "Epoch 89/200\n",
      " - 0s - loss: 0.8903 - acc: 0.8182\n",
      "Epoch 90/200\n",
      " - 0s - loss: 0.8712 - acc: 0.8182\n",
      "Epoch 91/200\n",
      " - 0s - loss: 0.8524 - acc: 0.8182\n",
      "Epoch 92/200\n",
      " - 0s - loss: 0.8339 - acc: 0.8182\n",
      "Epoch 93/200\n",
      " - 0s - loss: 0.8156 - acc: 0.8182\n",
      "Epoch 94/200\n",
      " - 0s - loss: 0.7976 - acc: 0.8182\n",
      "Epoch 95/200\n",
      " - 0s - loss: 0.7799 - acc: 0.8182\n",
      "Epoch 96/200\n",
      " - 0s - loss: 0.7624 - acc: 0.8182\n",
      "Epoch 97/200\n",
      " - 0s - loss: 0.7451 - acc: 0.8182\n",
      "Epoch 98/200\n",
      " - 0s - loss: 0.7283 - acc: 0.8182\n",
      "Epoch 99/200\n",
      " - 0s - loss: 0.7117 - acc: 0.8182\n",
      "Epoch 100/200\n",
      " - 0s - loss: 0.6953 - acc: 0.8182\n",
      "Epoch 101/200\n",
      " - 0s - loss: 0.6793 - acc: 0.8182\n",
      "Epoch 102/200\n",
      " - 0s - loss: 0.6635 - acc: 0.9091\n",
      "Epoch 103/200\n",
      " - 0s - loss: 0.6481 - acc: 0.9091\n",
      "Epoch 104/200\n",
      " - 0s - loss: 0.6330 - acc: 0.9091\n",
      "Epoch 105/200\n",
      " - 0s - loss: 0.6182 - acc: 0.9091\n",
      "Epoch 106/200\n",
      " - 0s - loss: 0.6036 - acc: 0.9091\n",
      "Epoch 107/200\n",
      " - 0s - loss: 0.5894 - acc: 0.9091\n",
      "Epoch 108/200\n",
      " - 0s - loss: 0.5755 - acc: 0.9091\n",
      "Epoch 109/200\n",
      " - 0s - loss: 0.5618 - acc: 0.9091\n",
      "Epoch 110/200\n",
      " - 0s - loss: 0.5485 - acc: 0.9091\n",
      "Epoch 111/200\n",
      " - 0s - loss: 0.5355 - acc: 0.9091\n",
      "Epoch 112/200\n",
      " - 0s - loss: 0.5227 - acc: 0.9091\n",
      "Epoch 113/200\n",
      " - 0s - loss: 0.5103 - acc: 0.9091\n",
      "Epoch 114/200\n",
      " - 0s - loss: 0.4981 - acc: 0.9091\n",
      "Epoch 115/200\n",
      " - 0s - loss: 0.4862 - acc: 0.9091\n",
      "Epoch 116/200\n",
      " - 0s - loss: 0.4746 - acc: 0.9091\n",
      "Epoch 117/200\n",
      " - 0s - loss: 0.4633 - acc: 0.9091\n",
      "Epoch 118/200\n",
      " - 0s - loss: 0.4522 - acc: 0.9091\n",
      "Epoch 119/200\n",
      " - 0s - loss: 0.4414 - acc: 0.9091\n",
      "Epoch 120/200\n",
      " - 0s - loss: 0.4309 - acc: 0.9091\n",
      "Epoch 121/200\n",
      " - 0s - loss: 0.4207 - acc: 0.9091\n",
      "Epoch 122/200\n",
      " - 0s - loss: 0.4107 - acc: 0.9091\n",
      "Epoch 123/200\n",
      " - 0s - loss: 0.4009 - acc: 0.9091\n",
      "Epoch 124/200\n",
      " - 0s - loss: 0.3914 - acc: 0.9091\n",
      "Epoch 125/200\n",
      " - 0s - loss: 0.3822 - acc: 0.9091\n",
      "Epoch 126/200\n",
      " - 0s - loss: 0.3732 - acc: 0.9091\n",
      "Epoch 127/200\n",
      " - 0s - loss: 0.3644 - acc: 0.9091\n",
      "Epoch 128/200\n",
      " - 0s - loss: 0.3558 - acc: 0.9091\n",
      "Epoch 129/200\n",
      " - 0s - loss: 0.3475 - acc: 0.9091\n",
      "Epoch 130/200\n",
      " - 0s - loss: 0.3394 - acc: 0.9091\n",
      "Epoch 131/200\n",
      " - 0s - loss: 0.3316 - acc: 0.9091\n",
      "Epoch 132/200\n",
      " - 0s - loss: 0.3239 - acc: 0.9091\n",
      "Epoch 133/200\n",
      " - 0s - loss: 0.3165 - acc: 1.0000\n",
      "Epoch 134/200\n",
      " - 0s - loss: 0.3092 - acc: 1.0000\n",
      "Epoch 135/200\n",
      " - 0s - loss: 0.3022 - acc: 1.0000\n",
      "Epoch 136/200\n",
      " - 0s - loss: 0.2953 - acc: 1.0000\n",
      "Epoch 137/200\n",
      " - 0s - loss: 0.2887 - acc: 1.0000\n",
      "Epoch 138/200\n",
      " - 0s - loss: 0.2822 - acc: 1.0000\n",
      "Epoch 139/200\n",
      " - 0s - loss: 0.2759 - acc: 1.0000\n",
      "Epoch 140/200\n",
      " - 0s - loss: 0.2698 - acc: 1.0000\n",
      "Epoch 141/200\n",
      " - 0s - loss: 0.2638 - acc: 1.0000\n",
      "Epoch 142/200\n",
      " - 0s - loss: 0.2580 - acc: 1.0000\n",
      "Epoch 143/200\n",
      " - 0s - loss: 0.2524 - acc: 1.0000\n",
      "Epoch 144/200\n",
      " - 0s - loss: 0.2469 - acc: 1.0000\n",
      "Epoch 145/200\n",
      " - 0s - loss: 0.2416 - acc: 1.0000\n",
      "Epoch 146/200\n",
      " - 0s - loss: 0.2365 - acc: 1.0000\n",
      "Epoch 147/200\n",
      " - 0s - loss: 0.2314 - acc: 1.0000\n",
      "Epoch 148/200\n",
      " - 0s - loss: 0.2266 - acc: 1.0000\n",
      "Epoch 149/200\n",
      " - 0s - loss: 0.2218 - acc: 1.0000\n",
      "Epoch 150/200\n",
      " - 0s - loss: 0.2172 - acc: 1.0000\n",
      "Epoch 151/200\n",
      " - 0s - loss: 0.2127 - acc: 1.0000\n",
      "Epoch 152/200\n",
      " - 0s - loss: 0.2083 - acc: 1.0000\n",
      "Epoch 153/200\n",
      " - 0s - loss: 0.2041 - acc: 1.0000\n",
      "Epoch 154/200\n",
      " - 0s - loss: 0.2000 - acc: 1.0000\n",
      "Epoch 155/200\n",
      " - 0s - loss: 0.1959 - acc: 1.0000\n",
      "Epoch 156/200\n",
      " - 0s - loss: 0.1920 - acc: 1.0000\n",
      "Epoch 157/200\n",
      " - 0s - loss: 0.1882 - acc: 1.0000\n",
      "Epoch 158/200\n",
      " - 0s - loss: 0.1845 - acc: 1.0000\n",
      "Epoch 159/200\n",
      " - 0s - loss: 0.1809 - acc: 1.0000\n",
      "Epoch 160/200\n",
      " - 0s - loss: 0.1774 - acc: 1.0000\n",
      "Epoch 161/200\n",
      " - 0s - loss: 0.1740 - acc: 1.0000\n",
      "Epoch 162/200\n",
      " - 0s - loss: 0.1706 - acc: 1.0000\n",
      "Epoch 163/200\n",
      " - 0s - loss: 0.1674 - acc: 1.0000\n",
      "Epoch 164/200\n",
      " - 0s - loss: 0.1642 - acc: 1.0000\n",
      "Epoch 165/200\n",
      " - 0s - loss: 0.1611 - acc: 1.0000\n",
      "Epoch 166/200\n",
      " - 0s - loss: 0.1582 - acc: 1.0000\n",
      "Epoch 167/200\n",
      " - 0s - loss: 0.1552 - acc: 1.0000\n",
      "Epoch 168/200\n",
      " - 0s - loss: 0.1524 - acc: 1.0000\n",
      "Epoch 169/200\n",
      " - 0s - loss: 0.1496 - acc: 1.0000\n",
      "Epoch 170/200\n",
      " - 0s - loss: 0.1469 - acc: 1.0000\n"
     ]
    },
    {
     "name": "stdout",
     "output_type": "stream",
     "text": [
      "Epoch 171/200\n",
      " - 0s - loss: 0.1443 - acc: 1.0000\n",
      "Epoch 172/200\n",
      " - 0s - loss: 0.1417 - acc: 1.0000\n",
      "Epoch 173/200\n",
      " - 0s - loss: 0.1392 - acc: 1.0000\n",
      "Epoch 174/200\n",
      " - 0s - loss: 0.1367 - acc: 1.0000\n",
      "Epoch 175/200\n",
      " - 0s - loss: 0.1343 - acc: 1.0000\n",
      "Epoch 176/200\n",
      " - 0s - loss: 0.1320 - acc: 1.0000\n",
      "Epoch 177/200\n",
      " - 0s - loss: 0.1297 - acc: 1.0000\n",
      "Epoch 178/200\n",
      " - 0s - loss: 0.1275 - acc: 1.0000\n",
      "Epoch 179/200\n",
      " - 0s - loss: 0.1253 - acc: 1.0000\n",
      "Epoch 180/200\n",
      " - 0s - loss: 0.1232 - acc: 1.0000\n",
      "Epoch 181/200\n",
      " - 0s - loss: 0.1212 - acc: 1.0000\n",
      "Epoch 182/200\n",
      " - 0s - loss: 0.1191 - acc: 1.0000\n",
      "Epoch 183/200\n",
      " - 0s - loss: 0.1172 - acc: 1.0000\n",
      "Epoch 184/200\n",
      " - 0s - loss: 0.1152 - acc: 1.0000\n",
      "Epoch 185/200\n",
      " - 0s - loss: 0.1134 - acc: 1.0000\n",
      "Epoch 186/200\n",
      " - 0s - loss: 0.1115 - acc: 1.0000\n",
      "Epoch 187/200\n",
      " - 0s - loss: 0.1097 - acc: 1.0000\n",
      "Epoch 188/200\n",
      " - 0s - loss: 0.1080 - acc: 1.0000\n",
      "Epoch 189/200\n",
      " - 0s - loss: 0.1063 - acc: 1.0000\n",
      "Epoch 190/200\n",
      " - 0s - loss: 0.1046 - acc: 1.0000\n",
      "Epoch 191/200\n",
      " - 0s - loss: 0.1030 - acc: 1.0000\n",
      "Epoch 192/200\n",
      " - 0s - loss: 0.1014 - acc: 1.0000\n",
      "Epoch 193/200\n",
      " - 0s - loss: 0.0998 - acc: 1.0000\n",
      "Epoch 194/200\n",
      " - 0s - loss: 0.0983 - acc: 1.0000\n",
      "Epoch 195/200\n",
      " - 0s - loss: 0.0968 - acc: 1.0000\n",
      "Epoch 196/200\n",
      " - 0s - loss: 0.0953 - acc: 1.0000\n",
      "Epoch 197/200\n",
      " - 0s - loss: 0.0939 - acc: 1.0000\n",
      "Epoch 198/200\n",
      " - 0s - loss: 0.0925 - acc: 1.0000\n",
      "Epoch 199/200\n",
      " - 0s - loss: 0.0911 - acc: 1.0000\n",
      "Epoch 200/200\n",
      " - 0s - loss: 0.0897 - acc: 1.0000\n"
     ]
    },
    {
     "data": {
      "text/plain": [
       "<keras.callbacks.History at 0x144475c87f0>"
      ]
     },
     "execution_count": 31,
     "metadata": {},
     "output_type": "execute_result"
    }
   ],
   "source": [
    "from keras.layers import Embedding, Dense, SimpleRNN\n",
    "from keras.models import Sequential\n",
    "\n",
    "model = Sequential()\n",
    "model.add(Embedding(vocab_size, 10, input_length=5))\n",
    "model.add(SimpleRNN(32))\n",
    "model.add(Dense(vocab_size, activation='softmax'))\n",
    "model.compile(loss = 'categorical_crossentropy', optimizer = 'adam', metrics = ['accuracy'])\n",
    "model.fit(X,y,epochs = 200, verbose = 2)"
   ]
  },
  {
   "cell_type": "code",
   "execution_count": 53,
   "metadata": {},
   "outputs": [],
   "source": [
    "def sentencs_generation(model, t, current_word, n):\n",
    "    init_word = current_word\n",
    "    sentence  = ''\n",
    "    for _ in range(n):\n",
    "        encoded = t.texts_to_sequences([current_word])[0]\n",
    "        encoded = pad_sequences([encoded], maxlen=5, padding='pre')\n",
    "        result = model.predict_classes(encoded, verbose=0)\n",
    "        for word, index in t.word_index.items():\n",
    "            if index == result:\n",
    "                break\n",
    "        current_word = current_word + ' ' + word\n",
    "        sentence = sentence + ' ' + word\n",
    "    sentence = init_word + sentence\n",
    "    return sentence"
   ]
  },
  {
   "cell_type": "code",
   "execution_count": 54,
   "metadata": {},
   "outputs": [
    {
     "name": "stdout",
     "output_type": "stream",
     "text": [
      "경마장에 있는 말이 뛰고 있다\n"
     ]
    }
   ],
   "source": [
    "print(sentencs_generation(model, t, '경마장에',4))"
   ]
  },
  {
   "cell_type": "code",
   "execution_count": 55,
   "metadata": {},
   "outputs": [
    {
     "name": "stdout",
     "output_type": "stream",
     "text": [
      "그의 말이 법이다\n"
     ]
    }
   ],
   "source": [
    "print(sentencs_generation(model,t, '그의', 2))"
   ]
  },
  {
   "cell_type": "code",
   "execution_count": 56,
   "metadata": {},
   "outputs": [
    {
     "name": "stdout",
     "output_type": "stream",
     "text": [
      "가는 말이 고와야 오는 말이 곱다\n"
     ]
    }
   ],
   "source": [
    "print(sentencs_generation(model, t, '가는',5))"
   ]
  },
  {
   "cell_type": "code",
   "execution_count": 63,
   "metadata": {},
   "outputs": [
    {
     "name": "stdout",
     "output_type": "stream",
     "text": [
      "뛰고 말이 법이다 말이\n"
     ]
    }
   ],
   "source": [
    "print(sentencs_generation(model,t, '뛰고', 3))"
   ]
  }
 ],
 "metadata": {
  "kernelspec": {
   "display_name": "Python 3",
   "language": "python",
   "name": "python3"
  },
  "language_info": {
   "codemirror_mode": {
    "name": "ipython",
    "version": 3
   },
   "file_extension": ".py",
   "mimetype": "text/x-python",
   "name": "python",
   "nbconvert_exporter": "python",
   "pygments_lexer": "ipython3",
   "version": "3.7.3"
  }
 },
 "nbformat": 4,
 "nbformat_minor": 2
}

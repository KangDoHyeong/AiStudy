{
 "cells": [
  {
   "cell_type": "code",
   "execution_count": 1,
   "metadata": {},
   "outputs": [],
   "source": [
    "import konlpy"
   ]
  },
  {
   "cell_type": "code",
   "execution_count": 23,
   "metadata": {},
   "outputs": [],
   "source": [
    "from konlpy.tag import Okt\n",
    "Okt = Okt()"
   ]
  },
  {
   "cell_type": "code",
   "execution_count": 24,
   "metadata": {},
   "outputs": [
    {
     "name": "stdout",
     "output_type": "stream",
     "text": [
      "['열심히', '코딩', '한', '당신', ',', '연휴', '에는', '여행', '을', '가봐요', '.']\n"
     ]
    }
   ],
   "source": [
    "print(Okt.morphs('열심히 코딩한 당신, 연휴에는 여행을 가봐요.'))"
   ]
  },
  {
   "cell_type": "code",
   "execution_count": 25,
   "metadata": {},
   "outputs": [
    {
     "name": "stdout",
     "output_type": "stream",
     "text": [
      "[('열심히', 'Adverb'), ('코딩', 'Noun'), ('한', 'Josa'), ('당신', 'Noun'), (',', 'Punctuation'), ('연휴', 'Noun'), ('에는', 'Josa'), ('여행', 'Noun'), ('을', 'Josa'), ('가봐요', 'Verb'), ('.', 'Punctuation')]\n"
     ]
    }
   ],
   "source": [
    "print(Okt.pos('열심히 코딩한 당신, 연휴에는 여행을 가봐요.'))"
   ]
  },
  {
   "cell_type": "code",
   "execution_count": 26,
   "metadata": {},
   "outputs": [
    {
     "name": "stdout",
     "output_type": "stream",
     "text": [
      "['코딩', '당신', '연휴', '여행']\n"
     ]
    }
   ],
   "source": [
    "print(Okt.nouns('열심히 코딩한 당신, 연휴에는 여행을 가봐요.'))"
   ]
  },
  {
   "cell_type": "code",
   "execution_count": 18,
   "metadata": {},
   "outputs": [],
   "source": [
    "from konlpy.tag import Hannanum"
   ]
  },
  {
   "cell_type": "code",
   "execution_count": 19,
   "metadata": {},
   "outputs": [
    {
     "name": "stderr",
     "output_type": "stream",
     "text": [
      "c:\\users\\fire7\\appdata\\local\\programs\\python\\python37\\lib\\site-packages\\jpype\\_core.py:210: UserWarning: \n",
      "-------------------------------------------------------------------------------\n",
      "Deprecated: convertStrings was not specified when starting the JVM. The default\n",
      "behavior in JPype will be False starting in JPype 0.8. The recommended setting\n",
      "for new code is convertStrings=False.  The legacy value of True was assumed for\n",
      "this session. If you are a user of an application that reported this warning,\n",
      "please file a ticket with the developer.\n",
      "-------------------------------------------------------------------------------\n",
      "\n",
      "  \"\"\")\n"
     ]
    }
   ],
   "source": [
    "han = Hannanum()"
   ]
  },
  {
   "cell_type": "code",
   "execution_count": 20,
   "metadata": {},
   "outputs": [
    {
     "name": "stdout",
     "output_type": "stream",
     "text": [
      "['형태소', '분석']\n"
     ]
    }
   ],
   "source": [
    "print(han.nouns(\"형태소 분석을 해봅시다. 어렵지 않아요\"))"
   ]
  },
  {
   "cell_type": "code",
   "execution_count": 21,
   "metadata": {},
   "outputs": [
    {
     "name": "stdout",
     "output_type": "stream",
     "text": [
      "['형태소', '분석', '을', '하', '어', '보', 'ㅂ시다', '.', '어렵', '지', '않', '아요']\n"
     ]
    }
   ],
   "source": [
    "print(han.morphs(\"형태소 분석을 해봅시다. 어렵지 않아요\"))"
   ]
  },
  {
   "cell_type": "code",
   "execution_count": 22,
   "metadata": {},
   "outputs": [
    {
     "name": "stdout",
     "output_type": "stream",
     "text": [
      "[('형태소', 'N'), ('분석', 'N'), ('을', 'J'), ('하', 'P'), ('어', 'E'), ('보', 'P'), ('ㅂ시다', 'E'), ('.', 'S'), ('어렵', 'P'), ('지', 'E'), ('않', 'P'), ('아요', 'E')]\n"
     ]
    }
   ],
   "source": [
    "print(han.pos(\"형태소 분석을 해봅시다. 어렵지 않아요\"))"
   ]
  },
  {
   "cell_type": "code",
   "execution_count": 30,
   "metadata": {},
   "outputs": [
    {
     "name": "stdout",
     "output_type": "stream",
     "text": [
      "분석할 안녕하세요 강도형입니다\n",
      "안녕\t N\n",
      "하\t X\n",
      "세\t E\n",
      "요\t J\n",
      "강도형\t N\n",
      "이\t J\n",
      "ㅂ니다\t E\n",
      "\n",
      "\n",
      "\n",
      "안녕하세요\t Adjective\n",
      "강도\t Noun\n",
      "형\t Suffix\n",
      "입니다\t Adjective\n"
     ]
    }
   ],
   "source": [
    "text = input(\"분석할 \")\n",
    "result = han.pos(text)\n",
    "for lex, pos in result:\n",
    "    print(\"{}\\t {}\".format(lex, pos))\n",
    "print(\"\\n\\n\")\n",
    "result = Okt.pos(text)\n",
    "for lex, pos in result:\n",
    "    print(\"{}\\t {}\".format(lex, pos))"
   ]
  },
  {
   "cell_type": "code",
   "execution_count": 32,
   "metadata": {
    "scrolled": true
   },
   "outputs": [
    {
     "name": "stdout",
     "output_type": "stream",
     "text": [
      "분석할 술 취해떠요\n",
      "술\t N\n",
      "취해떠요\t N\n",
      "\n",
      "\n",
      "\n",
      "술\t Noun\n",
      "취해떠\t Noun\n",
      "요\t Josa\n"
     ]
    }
   ],
   "source": [
    "text = input(\"분석할 \")\n",
    "result = han.pos(text)\n",
    "for lex, pos in result:\n",
    "    print(\"{}\\t {}\".format(lex, pos))\n",
    "print(\"\\n\\n\")\n",
    "result = Okt.pos(text)\n",
    "for lex, pos in result:\n",
    "    print(\"{}\\t {}\".format(lex, pos))"
   ]
  },
  {
   "cell_type": "code",
   "execution_count": 37,
   "metadata": {},
   "outputs": [
    {
     "name": "stderr",
     "output_type": "stream",
     "text": [
      "[nltk_data] Downloading package stopwords to\n",
      "[nltk_data]     C:\\Users\\fire7\\AppData\\Roaming\\nltk_data...\n",
      "[nltk_data]   Unzipping corpora\\stopwords.zip.\n"
     ]
    },
    {
     "data": {
      "text/plain": [
       "True"
      ]
     },
     "execution_count": 37,
     "metadata": {},
     "output_type": "execute_result"
    }
   ],
   "source": [
    "from nltk.corpus import stopwords\n",
    "from nltk.tokenize import word_tokenize\n",
    "nltk.download('stopwords')"
   ]
  },
  {
   "cell_type": "code",
   "execution_count": 36,
   "metadata": {},
   "outputs": [],
   "source": [
    "import nltk"
   ]
  },
  {
   "cell_type": "code",
   "execution_count": 38,
   "metadata": {},
   "outputs": [
    {
     "name": "stdout",
     "output_type": "stream",
     "text": [
      "['Family', 'is', 'not', 'an', 'import', 'thing', '.', 'It', \"'s\", 'everything']\n",
      "['Family', 'import', 'thing', '.', 'It', \"'s\", 'everything']\n"
     ]
    }
   ],
   "source": [
    "example = \"Family is not an import thing. It's everything\"\n",
    "stop_words = set(stopwords.words('english'))\n",
    "\n",
    "word_tokens = word_tokenize(example)\n",
    "result = []\n",
    "\n",
    "for w in word_tokens:\n",
    "    if w not in stop_words:\n",
    "        result.append(w)\n",
    "        \n",
    "print(word_tokens)\n",
    "print(result)"
   ]
  },
  {
   "cell_type": "code",
   "execution_count": 49,
   "metadata": {},
   "outputs": [
    {
     "name": "stdout",
     "output_type": "stream",
     "text": [
      "<class 'list'>\n",
      "['고기를', '아무렇게나', '구우려고', '하면', '안', '돼', '.', '고기라고', '다', '같은', '게', '아니거든', '.', '예컨대', '삼겹살을', '구울', '때는', '중요한', '게', '있지', '.']\n",
      "['고기를', '구우려고', '안', '돼', '.', '고기라고', '다', '같은', '게', '.', '예컨대', '삼겹살을', '구울', '때는', '중요한', '게', '있지', '.']\n"
     ]
    }
   ],
   "source": [
    "example = \"고기를 아무렇게나 구우려고 하면 안 돼. 고기라고 다 같은 게 아니거든. 예컨대 삼겹살을 구울 때는 중요한 게 있지.\"\n",
    "stop_words = \"아무거나 아무렇게나 어찌하든지 같다 비슷하다 예커대 이럴정도로 하면 아니거든\"\n",
    "stop_words = stop_words.split(\" \")\n",
    "print(type(stop_words))\n",
    "word_tokens = word_tokenize(example)\n",
    "result = []\n",
    "\n",
    "for w in word_tokens:\n",
    "    if w not in stop_words:\n",
    "        result.append(w)\n",
    "        \n",
    "print(word_tokens)\n",
    "print(result)"
   ]
  },
  {
   "cell_type": "code",
   "execution_count": 51,
   "metadata": {},
   "outputs": [
    {
     "name": "stdout",
     "output_type": "stream",
     "text": [
      "['고기를', '아무렇게나', '구우려고', '하면', '안', '돼', '.', '고기라고', '다', '같은', '게', '아니거든', '.', '예컨대', '삼겹살을', '구울', '때는', '중요한', '게', '있지', '.']\n",
      "['고기를', '구우려고', '안', '돼', '.', '고기라고', '같은', '.', '예컨대', '삼겹살을', '구울', '때는', '중요한', '있지', '.']\n"
     ]
    }
   ],
   "source": [
    "example = \"고기를 아무렇게나 구우려고 하면 안 돼. 고기라고 다 같은 게 아니거든. 예컨대 삼겹살을 구울 때는 중요한 게 있지.\"\n",
    "stop_words = \"아무거나 아무렇게나 어찌하든지 같다 비슷하다 예커대 이럴정도로 하면 아니거든\"\n",
    "# stop_words = stop_words.split(\" \")\n",
    "word_tokens = word_tokenize(example)\n",
    "result = []\n",
    "\n",
    "for w in word_tokens:\n",
    "    if w not in stop_words:\n",
    "        result.append(w)\n",
    "        \n",
    "print(word_tokens)\n",
    "print(result)"
   ]
  },
  {
   "cell_type": "code",
   "execution_count": 52,
   "metadata": {},
   "outputs": [],
   "source": [
    "from konlpy.corpus import kobill"
   ]
  },
  {
   "cell_type": "code",
   "execution_count": 54,
   "metadata": {},
   "outputs": [],
   "source": [
    "files_ko = kobill.fileids()"
   ]
  },
  {
   "cell_type": "code",
   "execution_count": 61,
   "metadata": {},
   "outputs": [
    {
     "data": {
      "text/plain": [
       "['1809890.txt',\n",
       " '1809891.txt',\n",
       " '1809892.txt',\n",
       " '1809893.txt',\n",
       " '1809894.txt',\n",
       " '1809895.txt',\n",
       " '1809896.txt',\n",
       " '1809897.txt',\n",
       " '1809898.txt',\n",
       " '1809899.txt']"
      ]
     },
     "execution_count": 61,
     "metadata": {},
     "output_type": "execute_result"
    }
   ],
   "source": [
    "files_ko"
   ]
  },
  {
   "cell_type": "code",
   "execution_count": 66,
   "metadata": {},
   "outputs": [
    {
     "name": "stdout",
     "output_type": "stream",
     "text": [
      "고등교육법 일부개정법률안\n",
      "\n",
      "(안상수의원 대표발의 )\n",
      "\n",
      " 의 안\n",
      " 번 호\n",
      "\n",
      "9894\n",
      "\n",
      "발의연월일 : 2010.  11.  15.\n",
      "\n",
      "발  의  자 : 안상수․김정훈․원희목 \n",
      "\n",
      "강석호․서상기․나성린 \n",
      "\n",
      "권영진․이춘식․정영희 \n",
      "\n",
      "이애주․안형환․백성운 \n",
      "\n",
      "김금래 의원(13인)\n",
      "\n",
      "제안이유 및 주요내용\n",
      "\n",
      "  현재 간호사의 경우 전문대학 졸업 또는 대학 졸업에 상관없이 면\n",
      "\n",
      "허증을 취득할 수 있지만, 학위의 종류가 전문학사이기 때문에 학사학\n",
      "\n",
      "위를 취득하기 위하여 87.2%가 별도로 학사학위 교육과정을 이수하고 \n",
      "\n",
      "있는 실정임.\n",
      "\n",
      "  이러한 4년제 간호 교육의 필요성과 선진 각국의 경향을 고려하고 \n",
      "\n",
      "국민에 대한 보다 나은 의료 서비스를 제공하기 위하여 대통령령이 \n",
      "\n",
      "정하는 일정한 기준을 충족하는 간호과에 대해서는 수업연한을 4년으\n",
      "\n",
      "로 하고, 수여하는 학위의 종류를 학사학위로 하도록 함(안 제50조의3 \n",
      "\n",
      "신설).\n",
      "\n",
      "- 1 -\n",
      "\n",
      "\f",
      "법률  제        호\n",
      "\n",
      "고등교육법 일부개정법률안\n",
      "\n",
      "고등교육법 일부를 다음과 같이 개정한다.\n",
      "\n",
      "제50조의3을 다음과 같이 신설한다.\n",
      "\n",
      "제50조의3(간호과의 수업연한 및 학위에 관한 특례) ① 대통령령이 정\n",
      "\n",
      "하는 기준을 충족하는 간호과의 수업연한은 4년으로 한다.\n",
      "\n",
      "  ② 제1항의 간호과에서 학칙이 정하는 과정을 이수한 자에 대하여\n",
      "\n",
      "는 학사학위를 수여한다.\n",
      "\n",
      "  ③ 제2항의 학위의 종류 및 수여에 관하여 필요한 사항은 대통령령\n",
      "\n",
      "으로 정한다.\n",
      "\n",
      "부      칙\n",
      "\n",
      "① 이 법은 공포 후 6개월이 경과한 날부터 시행한다.\n",
      "\n",
      "② 이 법 시행 당시 수업연한이 4년으로 된 간호과에 재학 중인 자에 \n",
      "\n",
      "대해서는 본인의 신청에 의하여 종전의 수업연한 및 학위에 관한 규\n",
      "\n",
      "정을 적용할 수 있다.\n",
      "\n",
      "- 3 -\n",
      "\n",
      "\f",
      "신·구조문대비표\n",
      "\n",
      "현      행\n",
      "\n",
      "개   정   안\n",
      "\n",
      "  <신  설>\n",
      "\n",
      "제50조의3(간호과의 수업연한 및 \n",
      "\n",
      "학위에 관한 특례) ① 대통령\n",
      "\n",
      "령이 정하는 기준을 충족하는 \n",
      "\n",
      "간호과의 수업연한은 4년으로 \n",
      "\n",
      "한다.\n",
      "\n",
      "  ② 제1항의 간호과에서 학칙이 \n",
      "\n",
      "정하는 과정을 이수한 자에 대\n",
      "\n",
      "하여는 학사학위를 수여한다.\n",
      "\n",
      "  ③ 제2항의 학위의 종류 및 수\n",
      "\n",
      "여에 관하여 필요한 사항은 대\n",
      "\n",
      "통령령으로 정한다.\n",
      "\n",
      "- 5 -\n",
      "\n",
      "\f",
      "\n"
     ]
    }
   ],
   "source": [
    "doc_ko = kobill.open('1809894.txt').read()\n",
    "print(doc_ko)"
   ]
  },
  {
   "cell_type": "code",
   "execution_count": 67,
   "metadata": {
    "scrolled": true
   },
   "outputs": [
    {
     "name": "stdout",
     "output_type": "stream",
     "text": [
      "['고등', '교육법', '일부', '개정', '법률', '안', '안상수', '의원', '대표', '발의', '의', '안', '번', '호', '발의', '연월일', '발', '의', '자', '안상수', '김정훈', '원희목', '강석호', '서상기', '나성린', '권영진', '이춘식', '정영희', '이애주', '안형환', '백성운', '김금래', '의원', '인', '제안', '이유', '및', '내용', '현재', '간호사', '경우', '전문', '대학', '졸업', '대학', '졸업', '면', '증', '취득', '수', '학위', '종류', '문학사', '이기', '때문', '학', '사학', '위', '취득', '위', '별도', '학사', '학위', '교육과정', '이수', '실정', '임', '간호', '교육', '필요성', '선진', '각국', '경향', '고려', '국민', '대한', '나은', '의료', '서비스', '제공', '위', '대통령령', '정', '기준', '충족', '간호', '과', '대해', '수업', '연한', '로', '수여', '학위', '종류', '학사', '학위', '함', '안', '제', '신설', '법률', '제', '호', '고등', '교육법', '일부', '개정', '법률', '안', '고등', '교육법', '일부', '다음', '개정', '제', '다음', '신설', '제', '간호', '수업', '연한', '및', '학위', '관', '특례', '대통령령', '정', '기준', '충족', '간호', '수업', '연한', '제', '항의', '간호', '과', '학칙', '정', '과정', '이수', '자', '대하', '학사', '학위', '수여', '제', '항의', '학위', '종류', '및', '수여', '관', '사항', '대통령령', '정', '부', '칙', '이', '법', '공포', '후', '개월', '경과', '날', '시행', '이', '법', '시행', '당시', '수업', '연한', '간호', '과', '재학', '중인', '자', '대해', '본인', '신청', '종전', '수업', '연한', '및', '학위', '관', '규', '정', '적용', '수', '신', '구조', '문대비', '표', '현', '행', '개', '정', '안', '신', '설', '제', '간호', '수업', '연한', '및', '학위', '관', '특례', '대통령', '령', '정', '기준', '충족', '간호', '수업', '연한', '제', '항의', '간호', '과', '학칙', '정', '과정', '이수', '자', '학사', '학위', '수여', '제', '항의', '학위', '종류', '및', '수', '여', '관', '사항', '통령', '령', '정']\n"
     ]
    }
   ],
   "source": [
    "nouns = Okt.nouns(doc_ko)\n",
    "print(nouns)"
   ]
  },
  {
   "cell_type": "code",
   "execution_count": 72,
   "metadata": {},
   "outputs": [
    {
     "name": "stdout",
     "output_type": "stream",
     "text": [
      "240\n",
      "121\n"
     ]
    },
    {
     "data": {
      "text/plain": [
       "FreqDist({'학위': 11, '간호': 9, '정': 9, '제': 9, '수업': 7, '연한': 7, '및': 6, '안': 5, '관': 5, '자': 4, ...})"
      ]
     },
     "execution_count": 72,
     "metadata": {},
     "output_type": "execute_result"
    }
   ],
   "source": [
    "ko = nltk.Text(nouns, name = \"의안 190984호\")\n",
    "print(len(ko.tokens))\n",
    "print(len(set(ko.tokens)))\n",
    "ko.vocab()"
   ]
  },
  {
   "cell_type": "code",
   "execution_count": 73,
   "metadata": {},
   "outputs": [],
   "source": [
    "import matplotlib.pyplot as plt"
   ]
  },
  {
   "cell_type": "code",
   "execution_count": 74,
   "metadata": {},
   "outputs": [],
   "source": [
    "import platform"
   ]
  },
  {
   "cell_type": "code",
   "execution_count": 79,
   "metadata": {},
   "outputs": [
    {
     "data": {
      "text/plain": [
       "FreqDist({'학위': 11, '간호': 9, '정': 9, '제': 9, '수업': 7, '연한': 7, '및': 6, '안': 5, '관': 5, '자': 4, ...})"
      ]
     },
     "execution_count": 79,
     "metadata": {},
     "output_type": "execute_result"
    }
   ],
   "source": [
    "ko.vocab()"
   ]
  },
  {
   "cell_type": "code",
   "execution_count": 82,
   "metadata": {},
   "outputs": [
    {
     "data": {
      "image/png": "[encoded data removed]",
      "text/plain": [
       "<Figure size 432x288 with 1 Axes>"
      ]
     },
     "metadata": {
      "needs_background": "light"
     },
     "output_type": "display_data"
    }
   ],
   "source": [
    "\n",
    "ko.plot(50)\n",
    "plt.show()"
   ]
  }
 ],
 "metadata": {
  "kernelspec": {
   "display_name": "Python 3",
   "language": "python",
   "name": "python3"
  },
  "language_info": {
   "codemirror_mode": {
    "name": "ipython",
    "version": 3
   },
   "file_extension": ".py",
   "mimetype": "text/x-python",
   "name": "python",
   "nbconvert_exporter": "python",
   "pygments_lexer": "ipython3",
   "version": "3.7.3"
  }
 },
 "nbformat": 4,
 "nbformat_minor": 2
}

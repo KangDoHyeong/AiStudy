{
 "cells": [
  {
   "cell_type": "code",
   "execution_count": 1,
   "metadata": {},
   "outputs": [],
   "source": [
    "import numpy as np\n",
    "import matplotlib.pyplot as plt\n",
    "%matplotlib inline"
   ]
  },
  {
   "cell_type": "code",
   "execution_count": 2,
   "metadata": {},
   "outputs": [],
   "source": [
    "wk = np.load('data_ch9.npz')"
   ]
  },
  {
   "cell_type": "code",
   "execution_count": 3,
   "metadata": {},
   "outputs": [],
   "source": [
    "X = wk['X']\n",
    "X_range0=wk['X_range0']\n",
    "X_range1=wk['X_range1']"
   ]
  },
  {
   "cell_type": "code",
   "execution_count": 8,
   "metadata": {},
   "outputs": [],
   "source": [
    "def gauss(x, mu, sigma):\n",
    "    N, D = x.shape\n",
    "    c1 = 1/ (2*np.pi)**(D/2)\n",
    "    c2 = 1/(np.linalg.det(sigma)**(1/2))\n",
    "    inv_sigma = np.linalg.inv(sigma)\n",
    "    c3 = x-mu\n",
    "    c4 = np.dot(c3,inv_sigma)\n",
    "    c5 = np.zeros(N)\n",
    "    for d in range (D):\n",
    "        c5 = c5 + c4[:,d]*c3[:,d]\n",
    "    p = c1 * c2 * np.exp(-c5/2)\n",
    "    return p"
   ]
  },
  {
   "cell_type": "code",
   "execution_count": 9,
   "metadata": {},
   "outputs": [
    {
     "name": "stdout",
     "output_type": "stream",
     "text": [
      "[0.15915494 0.05854983 0.00291502]\n"
     ]
    }
   ],
   "source": [
    "x = np.array([[1,2], [2,1], [3,4]])\n",
    "mu = np.array([1,2])\n",
    "sigma = np.array([[1,0], [0,1]])\n",
    "print(gauss(x,mu,sigma))"
   ]
  },
  {
   "cell_type": "code",
   "execution_count": 21,
   "metadata": {},
   "outputs": [],
   "source": [
    "def mixgauss(x, pi, mu, sigma):\n",
    "    N,D = x.shape\n",
    "    K = len(pi)\n",
    "    p = np.zeros(N)\n",
    "    for k in range(K):\n",
    "        p = p + pi[k] * gauss(x,mu[k,:], sigma[k, :,:])\n",
    "    return p"
   ]
  },
  {
   "cell_type": "code",
   "execution_count": 23,
   "metadata": {},
   "outputs": [
    {
     "name": "stdout",
     "output_type": "stream",
     "text": [
      "[0.09031182 0.09634263 0.00837489]\n"
     ]
    }
   ],
   "source": [
    "x = np.array([[1,2], [2,2], [3,4]])\n",
    "pi = np.array([0.3, 0.7])\n",
    "mu = np.array([[1,1],[2,2]])\n",
    "sigma = np.array([[[1,0], [0,1]], [[2,0],[0,1]]])\n",
    "print(mixgauss(x,pi,mu,sigma))"
   ]
  },
  {
   "cell_type": "markdown",
   "metadata": {},
   "source": [
    "아 몰라!! 안해해애애애애애애애애"
   ]
  }
 ],
 "metadata": {
  "kernelspec": {
   "display_name": "Python 3",
   "language": "python",
   "name": "python3"
  },
  "language_info": {
   "codemirror_mode": {
    "name": "ipython",
    "version": 3
   },
   "file_extension": ".py",
   "mimetype": "text/x-python",
   "name": "python",
   "nbconvert_exporter": "python",
   "pygments_lexer": "ipython3",
   "version": "3.7.3"
  }
 },
 "nbformat": 4,
 "nbformat_minor": 2
}

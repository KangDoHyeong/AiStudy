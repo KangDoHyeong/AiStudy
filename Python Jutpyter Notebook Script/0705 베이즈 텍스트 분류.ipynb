{
 "cells": [
  {
   "cell_type": "code",
   "execution_count": 17,
   "metadata": {},
   "outputs": [],
   "source": [
    "import sys\n",
    "from konlpy.tag import Okt\n",
    "import math"
   ]
  },
  {
   "cell_type": "code",
   "execution_count": 18,
   "metadata": {},
   "outputs": [],
   "source": [
    "import sys\n",
    "from konlpy.tag import Okt\n",
    "import math\n",
    "\n",
    "class BayesianFilter:\n",
    "    def __init__(self):\n",
    "        self.words = set()\n",
    "        self.word_dict = {}\n",
    "        self.category_dict = {}\n",
    "    def split(self, text):\n",
    "        result = []\n",
    "        ok = Okt()\n",
    "        malist = ok.pos(text, norm = True, stem = True)\n",
    "        for word in malist:\n",
    "            if not word[1] in ['Josa', 'Eomi', 'Punctuation']:\n",
    "                result.append(word[0])\n",
    "        return result\n",
    "    def inc_word(self, word, category):\n",
    "        if not category in self.word_dict:\n",
    "            self.word_dict[category] = {}\n",
    "        if not word in self.word_dict[category]:\n",
    "            self.word_dict[category][word] = 1\n",
    "        else:\n",
    "            self.word_dict[category][word] +=1\n",
    "        self.words.add(word)\n",
    "    def inc_category(self, category):\n",
    "        if not category in self.category_dict:\n",
    "            self.category_dict[category] = 0\n",
    "        self.category_dict[category] +=1\n",
    "    def fit(self, text, category):\n",
    "        word_list = self.split(text)\n",
    "        for word in word_list:\n",
    "            self.inc_word(word, category)\n",
    "        self.inc_category(category)\n",
    "    def score(self, words, category):\n",
    "        score = math.log(self.category_prob(category))\n",
    "        for word in words:\n",
    "            score += math.log(self.word_prob(word, category))\n",
    "        return score\n",
    "    def predict(self, text):\n",
    "        best_category = None\n",
    "        max_score = -sys.maxsize\n",
    "        words = self.split(text)\n",
    "        score_list = list()\n",
    "        for category in self.category_dict.keys():\n",
    "            score = self.score(words, category)\n",
    "            score_list.append((category, score))\n",
    "            if score>max_score:\n",
    "                max_score = score\n",
    "                best_category = category\n",
    "        return best_category, score_list\n",
    "    def get_word_count(self, word, category):\n",
    "        if word in self.word_dict[category]:\n",
    "            return self.word_dict[category][word]\n",
    "        else:\n",
    "            return 0\n",
    "    def category_prob(self,category):\n",
    "        sum_categories = sum(self.category_dict.values())\n",
    "        category_v = self.category_dict[category]\n",
    "        return category_v/sum_categories\n",
    "    def word_prob(self, word, category):\n",
    "        n = self.get_word_count(word,category) +1\n",
    "        d = sum(self.word_dict[category].values()) + len(self.words)\n",
    "        return n/d"
   ]
  },
  {
   "cell_type": "code",
   "execution_count": 14,
   "metadata": {},
   "outputs": [],
   "source": [
    "bf = BayesianFilter()"
   ]
  },
  {
   "cell_type": "code",
   "execution_count": 15,
   "metadata": {},
   "outputs": [],
   "source": [
    "bf.fit('파격 세일 - 오늘까지만 30% 할인', '광고')\n",
    "bf.fit('쿠폰 선물 & 무료 배송', '광고')\n",
    "bf.fit('봄과 함께 찾아온 따듯한 신제품 소식', '광고')\n",
    "bf.fit('신세계 백화점 세일','광고')\n",
    "bf.fit('인기 제품 기간 한정 세일','광고')\n",
    "bf.fit('오늘 일정 확인', '중요')\n",
    "bf.fit('프로젝트 진행 상황 보고', '중요')\n",
    "bf.fit('계약 잘 부탁드립니다.','중요')\n",
    "bf.fit('회의 일정이 등록되었습니다.','중요')\n",
    "bf.fit('오늘 일정이 없습니다.','중요')\n",
    "# bf.fit()"
   ]
  },
  {
   "cell_type": "code",
   "execution_count": 20,
   "metadata": {},
   "outputs": [
    {
     "name": "stdout",
     "output_type": "stream",
     "text": [
      "결과 :  광고\n",
      "[('광고', -19.329379270837773), ('중요', -20.544606748320554)]\n"
     ]
    }
   ],
   "source": [
    "pre, scorelist = bf.predict('재고 정리 할인, 무료 배송')\n",
    "print('결과 : ', pre)\n",
    "print(scorelist)"
   ]
  },
  {
   "cell_type": "code",
   "execution_count": 23,
   "metadata": {},
   "outputs": [
    {
     "data": {
      "text/plain": [
       "{'광고': 5, '중요': 5}"
      ]
     },
     "execution_count": 23,
     "metadata": {},
     "output_type": "execute_result"
    }
   ],
   "source": [
    "bf.category_dict"
   ]
  },
  {
   "cell_type": "code",
   "execution_count": 24,
   "metadata": {},
   "outputs": [
    {
     "data": {
      "text/plain": [
       "{'광고': {'파격': 1,\n",
       "  '세': 3,\n",
       "  '일': 3,\n",
       "  '오늘': 1,\n",
       "  '30%': 1,\n",
       "  '할인': 1,\n",
       "  '쿠폰': 1,\n",
       "  '선물': 1,\n",
       "  '무료': 1,\n",
       "  '배송': 1,\n",
       "  '봄': 1,\n",
       "  '함께': 1,\n",
       "  '찾아오다': 1,\n",
       "  '따다': 1,\n",
       "  '한': 1,\n",
       "  '신제품': 1,\n",
       "  '소식': 1,\n",
       "  '신세계': 1,\n",
       "  '백화점': 1,\n",
       "  '인기': 1,\n",
       "  '제품': 1,\n",
       "  '기간': 1,\n",
       "  '한정': 1},\n",
       " '중요': {'오늘': 2,\n",
       "  '일정': 3,\n",
       "  '확인': 1,\n",
       "  '프로젝트': 1,\n",
       "  '진행': 1,\n",
       "  '상황': 1,\n",
       "  '보고': 1,\n",
       "  '계약': 1,\n",
       "  '자다': 1,\n",
       "  '부탁드리다': 1,\n",
       "  '회의': 1,\n",
       "  '등록': 1,\n",
       "  '되어다': 1,\n",
       "  '없다': 1}}"
      ]
     },
     "execution_count": 24,
     "metadata": {},
     "output_type": "execute_result"
    }
   ],
   "source": [
    "bf.word_dict"
   ]
  }
 ],
 "metadata": {
  "kernelspec": {
   "display_name": "Python 3",
   "language": "python",
   "name": "python3"
  },
  "language_info": {
   "codemirror_mode": {
    "name": "ipython",
    "version": 3
   },
   "file_extension": ".py",
   "mimetype": "text/x-python",
   "name": "python",
   "nbconvert_exporter": "python",
   "pygments_lexer": "ipython3",
   "version": "3.7.3"
  }
 },
 "nbformat": 4,
 "nbformat_minor": 2
}

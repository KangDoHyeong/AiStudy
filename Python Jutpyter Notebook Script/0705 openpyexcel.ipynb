{
 "cells": [
  {
   "cell_type": "code",
   "execution_count": 2,
   "metadata": {},
   "outputs": [],
   "source": [
    "import openpyxl"
   ]
  },
  {
   "cell_type": "code",
   "execution_count": 5,
   "metadata": {},
   "outputs": [],
   "source": [
    "filename = 'data/stats_104102.xlsx'"
   ]
  },
  {
   "cell_type": "code",
   "execution_count": 6,
   "metadata": {},
   "outputs": [],
   "source": [
    "book = openpyxl.load_workbook(filename)"
   ]
  },
  {
   "cell_type": "code",
   "execution_count": 10,
   "metadata": {},
   "outputs": [
    {
     "data": {
      "text/plain": [
       "[<openpyxl.workbook.views.BookView object>\n",
       " Parameters:\n",
       " visibility='visible', minimized=False, showHorizontalScroll=True, showVerticalScroll=True, showSheetTabs=True, xWindow=0, yWindow=0, windowWidth=14595, windowHeight=7440, tabRatio=600, firstSheet=0, activeTab=0, autoFilterDateGrouping=True]"
      ]
     },
     "execution_count": 10,
     "metadata": {},
     "output_type": "execute_result"
    }
   ],
   "source": [
    "book.views"
   ]
  },
  {
   "cell_type": "code",
   "execution_count": 11,
   "metadata": {},
   "outputs": [],
   "source": [
    "sheet = book.worksheets[0]"
   ]
  },
  {
   "cell_type": "code",
   "execution_count": 47,
   "metadata": {},
   "outputs": [],
   "source": [
    "data = list()\n",
    "for row in sheet.rows:\n",
    "    data.append([\n",
    "        row[0].value,\n",
    "        row[9].value\n",
    "    ])"
   ]
  },
  {
   "cell_type": "code",
   "execution_count": 48,
   "metadata": {},
   "outputs": [],
   "source": [
    "del data[0:3]"
   ]
  },
  {
   "cell_type": "code",
   "execution_count": 41,
   "metadata": {},
   "outputs": [
    {
     "ename": "SyntaxError",
     "evalue": "invalid syntax (<ipython-input-41-cf1b568ea22b>, line 1)",
     "output_type": "error",
     "traceback": [
      "\u001b[1;36m  File \u001b[1;32m\"<ipython-input-41-cf1b568ea22b>\"\u001b[1;36m, line \u001b[1;32m1\u001b[0m\n\u001b[1;33m    data.pop(0:3)\u001b[0m\n\u001b[1;37m              ^\u001b[0m\n\u001b[1;31mSyntaxError\u001b[0m\u001b[1;31m:\u001b[0m invalid syntax\n"
     ]
    }
   ],
   "source": [
    "data.pop(0)"
   ]
  },
  {
   "cell_type": "code",
   "execution_count": 49,
   "metadata": {},
   "outputs": [
    {
     "data": {
      "text/plain": [
       "[['서울', 9857],\n",
       " ['부산', 3470],\n",
       " ['대구', 2475],\n",
       " ['인천', 2948],\n",
       " ['광주', 1463],\n",
       " ['대전', 1502],\n",
       " ['울산', 1165],\n",
       " ['세종', 280],\n",
       " ['경기', 12873],\n",
       " ['강원', 1550],\n",
       " ['충북', 1594],\n",
       " ['충남', 2116],\n",
       " ['전북', 1854],\n",
       " ['전남', 1896],\n",
       " ['경북', 2691],\n",
       " ['경남', 3380],\n",
       " ['제주', 657]]"
      ]
     },
     "execution_count": 49,
     "metadata": {},
     "output_type": "execute_result"
    }
   ],
   "source": [
    "data"
   ]
  },
  {
   "cell_type": "code",
   "execution_count": 53,
   "metadata": {},
   "outputs": [
    {
     "name": "stdout",
     "output_type": "stream",
     "text": [
      "0 %% ['서울', 9857]\n",
      "1 %% ['부산', 3470]\n",
      "2 %% ['대구', 2475]\n",
      "3 %% ['인천', 2948]\n",
      "4 %% ['광주', 1463]\n",
      "5 %% ['대전', 1502]\n",
      "6 %% ['울산', 1165]\n",
      "7 %% ['세종', 280]\n",
      "8 %% ['경기', 12873]\n",
      "9 %% ['강원', 1550]\n",
      "10 %% ['충북', 1594]\n",
      "11 %% ['충남', 2116]\n",
      "12 %% ['전북', 1854]\n",
      "13 %% ['전남', 1896]\n",
      "14 %% ['경북', 2691]\n",
      "15 %% ['경남', 3380]\n",
      "16 %% ['제주', 657]\n"
     ]
    }
   ],
   "source": [
    "for i ,a  in enumerate(data):\n",
    "    print(i,'%%',a)"
   ]
  }
 ],
 "metadata": {
  "kernelspec": {
   "display_name": "Python 3",
   "language": "python",
   "name": "python3"
  },
  "language_info": {
   "codemirror_mode": {
    "name": "ipython",
    "version": 3
   },
   "file_extension": ".py",
   "mimetype": "text/x-python",
   "name": "python",
   "nbconvert_exporter": "python",
   "pygments_lexer": "ipython3",
   "version": "3.7.3"
  }
 },
 "nbformat": 4,
 "nbformat_minor": 2
}

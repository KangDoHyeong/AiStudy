{
 "cells": [
  {
   "cell_type": "code",
   "execution_count": 1,
   "metadata": {},
   "outputs": [],
   "source": [
    "from tensorflow.keras.models import Sequential\n",
    "from tensorflow.keras.layers import Dense, Activation\n",
    "from tensorflow.keras.optimizers import RMSprop,SGD\n",
    "import numpy as np\n",
    "from tensorflow.keras.layers import Activation\n",
    "import matplotlib.pyplot as plt"
   ]
  },
  {
   "cell_type": "code",
   "execution_count": null,
   "metadata": {
    "scrolled": false
   },
   "outputs": [],
   "source": [
    "x_data = np.array([[85,100],[100,92],[77,62],[62,56],[32,59],[13,68]])\n",
    "y_data = np.array([[1,0,0],[1,0,0],[0,1,0],[0,1,0],[0,0,1],[0,0,1]])\n",
    "\n",
    "model = Sequential()\n",
    "# model.add(Dense(3, input_dim=2))\n",
    "model.add(Dense(3, input_shape=(2,))) # 이미지는 2차원 이상 이여서 input shape를 해줘야됨 \n",
    "model.add(Activation('softmax'))\n",
    "\n",
    "sgd = SGD(lr=0.1)\n",
    "model.compile(loss='categorical_crossentropy', optimizer=sgd,metrics=['accuracy'])\n",
    "# 옵티마이저는 경사하강법의 일종인 확률적 경사 하강법 sgd를 사용합니다.\n",
    "# 손실 함수(Loss function)는 binary_crossentropy(이진 크로스 엔트로피)를 사용합니다.\n",
    "model.fit(x_data, y_data, epochs=200)\n",
    "\n",
    "y_predict = model.predict(np.array([[100,90]]))\n",
    "print(y_predict)"
   ]
  },
  {
   "cell_type": "code",
   "execution_count": null,
   "metadata": {
    "scrolled": false
   },
   "outputs": [],
   "source": [
    "x_data = np.array([[1, 2, 1, 1],\n",
    "                   [2, 1, 3, 2],\n",
    "                   [3, 1, 3, 4],\n",
    "                   [4, 1, 5, 5],\n",
    "                   [1, 7, 5, 5],\n",
    "                   [1, 2, 5, 6],\n",
    "                   [1, 6, 6, 6],\n",
    "                   [1, 7, 7, 7]],\n",
    "                  dtype=np.float32)\n",
    "\n",
    "y_data = np.array([[0, 0, 1],\n",
    "                   [0, 0, 1],\n",
    "                   [0, 0, 1],\n",
    "                   [0, 1, 0],\n",
    "                   [0, 1, 0],\n",
    "                   [0, 1, 0],\n",
    "                   [1, 0, 0],\n",
    "                   [1, 0, 0]],\n",
    "                  dtype=np.float32)\n",
    "\n",
    "model = Sequential()\n",
    "model.add(Dense(3, input_shape=(4,)))\n",
    "model.add(Activation('softmax'))\n",
    "\n",
    "model.summary()\n",
    "\n",
    "model.compile(loss='categorical_crossentropy',\n",
    "              optimizer='sgd',\n",
    "              metrics=['accuracy'])\n",
    "\n",
    "model.fit(x_data, y_data, epochs=100)\n",
    "print(model.predict(np.array([[1,1,1,1]])))\n",
    "print(model.predict_classes(np.array([[1, 2, 1, 1]])))\n",
    "print(model.predict_classes(np.array([[1, 2, 5, 6]])))\n"
   ]
  },
  {
   "cell_type": "code",
   "execution_count": 53,
   "metadata": {},
   "outputs": [
    {
     "name": "stdout",
     "output_type": "stream",
     "text": [
      "Epoch 1/30\n",
      "10/10 [==============================] - 0s 33ms/sample - loss: 1.3174 - acc: 0.2000\n",
      "Epoch 2/30\n",
      "10/10 [==============================] - 0s 199us/sample - loss: 1.3141 - acc: 0.2000\n",
      "Epoch 3/30\n",
      "10/10 [==============================] - 0s 299us/sample - loss: 1.3108 - acc: 0.3000\n",
      "Epoch 4/30\n",
      "10/10 [==============================] - 0s 200us/sample - loss: 1.3075 - acc: 0.3000\n",
      "Epoch 5/30\n",
      "10/10 [==============================] - 0s 100us/sample - loss: 1.3042 - acc: 0.3000\n",
      "Epoch 6/30\n",
      "10/10 [==============================] - 0s 299us/sample - loss: 1.3010 - acc: 0.3000\n",
      "Epoch 7/30\n",
      "10/10 [==============================] - 0s 198us/sample - loss: 1.2978 - acc: 0.3000\n",
      "Epoch 8/30\n",
      "10/10 [==============================] - 0s 501us/sample - loss: 1.2946 - acc: 0.3000\n",
      "Epoch 9/30\n",
      "10/10 [==============================] - 0s 399us/sample - loss: 1.2915 - acc: 0.3000\n",
      "Epoch 10/30\n",
      "10/10 [==============================] - 0s 197us/sample - loss: 1.2883 - acc: 0.3000\n",
      "Epoch 11/30\n",
      "10/10 [==============================] - 0s 199us/sample - loss: 1.2853 - acc: 0.3000\n",
      "Epoch 12/30\n",
      "10/10 [==============================] - 0s 299us/sample - loss: 1.2822 - acc: 0.3000\n",
      "Epoch 13/30\n",
      "10/10 [==============================] - 0s 200us/sample - loss: 1.2792 - acc: 0.3000\n",
      "Epoch 14/30\n",
      "10/10 [==============================] - 0s 399us/sample - loss: 1.2761 - acc: 0.3000\n",
      "Epoch 15/30\n",
      "10/10 [==============================] - 0s 299us/sample - loss: 1.2732 - acc: 0.3000\n",
      "Epoch 16/30\n",
      "10/10 [==============================] - 0s 299us/sample - loss: 1.2702 - acc: 0.3000\n",
      "Epoch 17/30\n",
      "10/10 [==============================] - 0s 199us/sample - loss: 1.2673 - acc: 0.3000\n",
      "Epoch 18/30\n",
      "10/10 [==============================] - 0s 499us/sample - loss: 1.2644 - acc: 0.3000\n",
      "Epoch 19/30\n",
      "10/10 [==============================] - 0s 199us/sample - loss: 1.2615 - acc: 0.3000\n",
      "Epoch 20/30\n",
      "10/10 [==============================] - 0s 798us/sample - loss: 1.2586 - acc: 0.3000\n",
      "Epoch 21/30\n",
      "10/10 [==============================] - 0s 200us/sample - loss: 1.2558 - acc: 0.3000\n",
      "Epoch 22/30\n",
      "10/10 [==============================] - 0s 200us/sample - loss: 1.2530 - acc: 0.3000\n",
      "Epoch 23/30\n",
      "10/10 [==============================] - 0s 395us/sample - loss: 1.2502 - acc: 0.3000\n",
      "Epoch 24/30\n",
      "10/10 [==============================] - 0s 199us/sample - loss: 1.2475 - acc: 0.3000\n",
      "Epoch 25/30\n",
      "10/10 [==============================] - 0s 499us/sample - loss: 1.2448 - acc: 0.3000\n",
      "Epoch 26/30\n",
      "10/10 [==============================] - 0s 199us/sample - loss: 1.2421 - acc: 0.3000\n",
      "Epoch 27/30\n",
      "10/10 [==============================] - 0s 399us/sample - loss: 1.2394 - acc: 0.3000\n",
      "Epoch 28/30\n",
      "10/10 [==============================] - 0s 199us/sample - loss: 1.2367 - acc: 0.3000\n",
      "Epoch 29/30\n",
      "10/10 [==============================] - 0s 299us/sample - loss: 1.2341 - acc: 0.4000\n",
      "Epoch 30/30\n",
      "10/10 [==============================] - 0s 600us/sample - loss: 1.2315 - acc: 0.4000\n",
      "[[0.19113396 0.38135877 0.42750725]]\n"
     ]
    }
   ],
   "source": [
    "x_data = np.array([[85,100],[100,92],[77,62],[62,56],[32,59],[13,68],[100,100],[0,0],[70,50],[100,90]])\n",
    "x_data = x_data/100\n",
    "y_data = np.array([[1,0,0],[1,0,0],[0,1,0],[0,1,0],[0,0,1],[0,0,1],[1,0,0],[0,0,1],[0,1,0],[1,0,0]])\n",
    "\n",
    "np.random.seed(777)\n",
    "\n",
    "model = Sequential()\n",
    "model.add(Dense(3, input_shape=(2,))) # 이미지는 2차원 이상 이여서 input shape를 해줘야됨 \n",
    "model.add(Activation('softmax'))\n",
    "\n",
    "sgd = SGD(lr=0.01)\n",
    "model.compile(loss='categorical_crossentropy', optimizer=sgd,metrics=['accuracy'])\n",
    "model.fit(x_data, y_data, epochs=30)\n",
    "\n",
    "y_predict = model.predict(np.array([[1,0.9]]))\n",
    "print(y_predict)"
   ]
  },
  {
   "cell_type": "code",
   "execution_count": 37,
   "metadata": {},
   "outputs": [
    {
     "data": {
      "text/plain": [
       "<function matplotlib.pyplot.show(*args, **kw)>"
      ]
     },
     "execution_count": 37,
     "metadata": {},
     "output_type": "execute_result"
    },
    {
     "data": {
      "image/png": "[encoded data removed]",
      "text/plain": [
       "<Figure size 432x288 with 1 Axes>"
      ]
     },
     "metadata": {
      "needs_background": "light"
     },
     "output_type": "display_data"
    }
   ],
   "source": [
    "plt.plot(x_data*10,'*')\n",
    "plt.show"
   ]
  }
 ],
 "metadata": {
  "kernelspec": {
   "display_name": "Python 3",
   "language": "python",
   "name": "python3"
  },
  "language_info": {
   "codemirror_mode": {
    "name": "ipython",
    "version": 3
   },
   "file_extension": ".py",
   "mimetype": "text/x-python",
   "name": "python",
   "nbconvert_exporter": "python",
   "pygments_lexer": "ipython3",
   "version": "3.6.8"
  }
 },
 "nbformat": 4,
 "nbformat_minor": 2
}

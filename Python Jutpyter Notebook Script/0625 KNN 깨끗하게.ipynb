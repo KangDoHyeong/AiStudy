{
 "cells": [
  {
   "cell_type": "code",
   "execution_count": 9,
   "metadata": {},
   "outputs": [],
   "source": [
    "from numpy import *\n",
    "import operator\n",
    "import pandas as pd\n",
    "from numpy import array\n",
    "import matplotlib\n",
    "import matplotlib.pyplot as plt"
   ]
  },
  {
   "cell_type": "code",
   "execution_count": 10,
   "metadata": {},
   "outputs": [],
   "source": [
    "datingData, datingLabels = file2matrix('datingTestSet.txt')"
   ]
  },
  {
   "cell_type": "code",
   "execution_count": 11,
   "metadata": {},
   "outputs": [],
   "source": [
    "def classify0(inX,dataSet,labels,k):\n",
    "    dataSetSize = dataSet.shape[0]\n",
    "    diffMat = tile(inX, (dataSetSize,1))-dataSet\n",
    "#     print(diffMat)\n",
    "    sqDiffMat = diffMat **2\n",
    "    sqDistances = sqDiffMat.sum(axis=1)\n",
    "    distances=sqDistances**0.5\n",
    "    sortedDistIndicies = distances.argsort()\n",
    "    classCount={}\n",
    "    for i in range(k):\n",
    "        votellabel=labels[sortedDistIndicies[i]]\n",
    "        classCount[votellabel]= classCount.get(votellabel,0)+1\n",
    "    i=classCount.values()\n",
    "    sortedClassCount = sorted(classCount.items(),key=operator.itemgetter(1),reverse=True)\n",
    "    return sortedClassCount[0][0]"
   ]
  },
  {
   "cell_type": "code",
   "execution_count": 12,
   "metadata": {},
   "outputs": [],
   "source": [
    "def file2matrix(filename):\n",
    "    love_dictionary={'largeDoses':3, 'smallDoses':2, 'didntLike':1}\n",
    "    fr = open(filename)\n",
    "    array0Lines = fr.readlines()\n",
    "    numberOfLines = len(array0Lines)\n",
    "    returnMat =zeros((numberOfLines,3))\n",
    "    classLabelVector = []\n",
    "    index = 0\n",
    "    \n",
    "    for line in array0Lines:\n",
    "        line = line.strip()\n",
    "        listFromLine = line.split('\\t')\n",
    "        returnMat[index,:] = listFromLine[0:3]\n",
    "        if (listFromLine[-1].isdigit()):\n",
    "            classLabelVector.append(int(listFromLine[-1]))\n",
    "        else:\n",
    "            classLabelVector.append(love_dictionary.get(listFromLine[-1]))\n",
    "        index+=1\n",
    "    return returnMat,classLabelVector"
   ]
  },
  {
   "cell_type": "code",
   "execution_count": 13,
   "metadata": {},
   "outputs": [],
   "source": [
    "def autoNorm(dataSet):\n",
    "    minVals = dataSet.min(0)\n",
    "    maxVals = dataSet.max(0)\n",
    "    ranges = maxVals - minVals\n",
    "    normDataSet = zeros(shape(dataSet))\n",
    "    m = dataSet.shape[0]\n",
    "    normDataSet = dataSet -tile(minVals, (m,1))\n",
    "    normDataSet - normDataSet/tile(ranges, (m,1))\n",
    "    return normDataSet, ranges, minVals"
   ]
  },
  {
   "cell_type": "code",
   "execution_count": 14,
   "metadata": {},
   "outputs": [],
   "source": [
    "def dataingClassTest(tmp):\n",
    "    hoRatio=tmp\n",
    "    datingDate, datingLabels = file2matrix('datingTestSet.txt')\n",
    "    normMat,ranges,minVals = autoNorm(datingData)\n",
    "    m = normMat.shape[0]\n",
    "    numTestVecs = int(m*hoRatio)\n",
    "    errorCount=0.0\n",
    "    for i in range(numTestVecs):\n",
    "        classifierResult = classify0(normMat[i,:], normMat[numTestVecs:m,:],datingLabels[numTestVecs:m],3)\n",
    "        print(' the classifier came back with : {},  the real answer is {}'.format(classifierResult, datingLabels[i]))\n",
    "        if (classifierResult != datingLabels[i]):\n",
    "            errorCount+=1.0\n",
    "    print(' the total error rate is : {}'.format(errorCount/float(numTestVecs)))\n",
    "    print(' the error count : {}'.format(errorCount))"
   ]
  },
  {
   "cell_type": "code",
   "execution_count": 21,
   "metadata": {},
   "outputs": [],
   "source": [
    "def classifyPerson(x,y,z):\n",
    "    resultList = ['not at all', 'In small doses', 'in large doses']\n",
    "    percentTats = float(x)\n",
    "    ffMiles = float(z)\n",
    "    iceCream = float(y)\n",
    "    datingData, datingLabels = file2matrix('datingTestSet.txt')\n",
    "    normMat,ranges,minVals = autoNorm(datingData)\n",
    "    inArr = array([ffMiles, percentTats, iceCream,])\n",
    "#     print('!!',inArr)\n",
    "    classifierResult = classify0((inArr-minVals)/ranges, normMat, datingLabels,3)\n",
    "    print(resultList[classifierResult -1])\n",
    "#     print(resultList)\n",
    "#     print(classifierResult)\n",
    "#     print(inArr)"
   ]
  },
  {
   "cell_type": "code",
   "execution_count": 23,
   "metadata": {},
   "outputs": [
    {
     "name": "stdout",
     "output_type": "stream",
     "text": [
      "!! [8.326976e+00 4.092000e+12 9.539520e-01]\n",
      "not at all\n"
     ]
    }
   ],
   "source": [
    "classifyPerson(4092000000000,0.953952,8.326976)"
   ]
  },
  {
   "cell_type": "code",
   "execution_count": null,
   "metadata": {},
   "outputs": [],
   "source": []
  }
 ],
 "metadata": {
  "kernelspec": {
   "display_name": "Python 3",
   "language": "python",
   "name": "python3"
  },
  "language_info": {
   "codemirror_mode": {
    "name": "ipython",
    "version": 3
   },
   "file_extension": ".py",
   "mimetype": "text/x-python",
   "name": "python",
   "nbconvert_exporter": "python",
   "pygments_lexer": "ipython3",
   "version": "3.7.3"
  }
 },
 "nbformat": 4,
 "nbformat_minor": 2
}

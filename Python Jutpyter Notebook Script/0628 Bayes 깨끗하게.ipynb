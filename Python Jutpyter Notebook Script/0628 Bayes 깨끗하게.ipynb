{
 "cells": [
  {
   "cell_type": "code",
   "execution_count": 43,
   "metadata": {},
   "outputs": [],
   "source": [
    "from numpy import *"
   ]
  },
  {
   "cell_type": "code",
   "execution_count": 44,
   "metadata": {},
   "outputs": [],
   "source": [
    "def loadDataSet():\n",
    "    postingList=[['my', 'dog', 'has', 'flea', 'problem', 'help', 'please'],\n",
    "                ['maybe', 'not', 'take', 'him', 'to', 'dog', 'park','stupid',],\n",
    "                ['my dalmation is so cute I love him'],\n",
    "                ['stop posting stupid worthless garbage'],\n",
    "                ['mr licks ate my steak how to stop him'],\n",
    "                ['quit buying worthless dog food stupid'],\n",
    "                ]\n",
    "    postingList[2]=postingList[2][0].split(' ')\n",
    "    postingList[3]=postingList[3][0].split(' ')\n",
    "    postingList[4]=postingList[4][0].split(' ')\n",
    "    postingList[5]=postingList[5][0].split(' ')\n",
    "    classVec = [0,1,0,1,0,1]\n",
    "    return postingList, classVec"
   ]
  },
  {
   "cell_type": "code",
   "execution_count": 46,
   "metadata": {},
   "outputs": [],
   "source": [
    "list0Posts, listClasses = loadDataSet()"
   ]
  },
  {
   "cell_type": "code",
   "execution_count": 47,
   "metadata": {},
   "outputs": [],
   "source": [
    "def createVocabList(dataSet):\n",
    "    vocabSet=set([])\n",
    "    for document in dataSet:\n",
    "        vocabSet = vocabSet | set(document)\n",
    "    return list(vocabSet)"
   ]
  },
  {
   "cell_type": "code",
   "execution_count": 48,
   "metadata": {},
   "outputs": [],
   "source": [
    "myVocabList=createVocabList(list0Posts)"
   ]
  },
  {
   "cell_type": "code",
   "execution_count": 49,
   "metadata": {},
   "outputs": [],
   "source": [
    "def setOfWords2Vec(vocabList, inputSet):\n",
    "    returnVec = [0]*len(vocabList)\n",
    "    for word in inputSet:\n",
    "        if word in vocabList:\n",
    "            returnVec[vocabList.index(word)]=1\n",
    "        else:\n",
    "            print(\"this word :{} is not in my Vocabulary!\".format(word))\n",
    "    return returnVec"
   ]
  },
  {
   "cell_type": "code",
   "execution_count": 50,
   "metadata": {},
   "outputs": [],
   "source": [
    "trainMat = []\n",
    "for postinDoc in list0Posts:\n",
    "    trainMat.append(setOfWords2Vec(myVocabList, postinDoc))"
   ]
  },
  {
   "cell_type": "code",
   "execution_count": 84,
   "metadata": {},
   "outputs": [],
   "source": [
    "def trainNBO(trainMatrix,trainCategory):\n",
    "    numTrainDocs = len(trainMatrix)\n",
    "    numWords = len(trainMatrix[0])\n",
    "    pAbusive = sum(trainCategory)/float(numTrainDocs)\n",
    "    p0Num = np.ones(numWords)\n",
    "    p1Num = np.ones(numWords)\n",
    "    p0Denom = 2.0\n",
    "    p1Denom = 2.0\n",
    "    for i in range(numTrainDocs):\n",
    "        if trainCategory[i] == 1:\n",
    "            p1Num+=trainMatrix[i]\n",
    "            p1Denom+=sum(trainMatrix[i])\n",
    "        else:\n",
    "            p0Num +=trainMatrix[i]\n",
    "            p0Denom += sum(trainMatrix[i])\n",
    "    p1Vect = log(p1Num/p1Denom)\n",
    "    p0Vect = log(p0Num/p0Denom)\n",
    "    return p0Vect, p1Vect, pAbusive"
   ]
  },
  {
   "cell_type": "code",
   "execution_count": 85,
   "metadata": {},
   "outputs": [],
   "source": [
    "p0V, p1V, pAb = trainNBO(trainMat, listClasses)"
   ]
  },
  {
   "cell_type": "code",
   "execution_count": 86,
   "metadata": {},
   "outputs": [
    {
     "name": "stdout",
     "output_type": "stream",
     "text": [
      "pAb : 0.5\n",
      "p0V : \n",
      " [-2.56494936 -2.56494936 -2.15948425 -3.25809654 -3.25809654 -2.56494936\n",
      " -2.56494936 -2.56494936 -2.56494936 -1.87180218 -2.56494936 -3.25809654\n",
      " -2.56494936 -3.25809654 -2.56494936 -2.56494936 -2.56494936 -2.56494936\n",
      " -2.56494936 -3.25809654 -2.56494936 -3.25809654 -2.56494936 -2.56494936\n",
      " -2.56494936 -2.56494936 -3.25809654 -3.25809654 -3.25809654 -3.25809654\n",
      " -2.56494936 -3.25809654]\n",
      "p1V : \n",
      " [-3.04452244 -3.04452244 -2.35137526 -2.35137526 -2.35137526 -3.04452244\n",
      " -3.04452244 -3.04452244 -2.35137526 -3.04452244 -2.35137526 -2.35137526\n",
      " -3.04452244 -1.94591015 -3.04452244 -3.04452244 -3.04452244 -3.04452244\n",
      " -3.04452244 -2.35137526 -3.04452244 -1.65822808 -1.94591015 -3.04452244\n",
      " -3.04452244 -3.04452244 -2.35137526 -2.35137526 -2.35137526 -2.35137526\n",
      " -3.04452244 -2.35137526]\n"
     ]
    }
   ],
   "source": [
    "print('pAb :', pAb)\n",
    "print('p0V : \\n', p0V) # 0인 애들이 해당 위치에 등장할 확률\n",
    "print('p1V : \\n', p1V)\n"
   ]
  },
  {
   "cell_type": "code",
   "execution_count": 88,
   "metadata": {},
   "outputs": [],
   "source": [
    "def classifyNB(vec2Classify, p0Vec, p1Vec, pClass1):\n",
    "    p1=sum(vec2Classify * p1Vec) + np.log(pClass1)\n",
    "    p0=sum(vec2Classify * p1Vec) + np.log(1.0 - pClass1)\n",
    "    if p1> p0:\n",
    "        return 1\n",
    "    else:\n",
    "        return 0"
   ]
  },
  {
   "cell_type": "code",
   "execution_count": 89,
   "metadata": {},
   "outputs": [],
   "source": [
    "def testingNB():\n",
    "    list0Posts, listClasses = loadDataSet()\n",
    "    testEntry=['love', 'my', 'dalmation', 'jinman']\n",
    "    thisDoc = np.array(setOfWords2Vec(myVocabList, testEntry))\n",
    "#     print(thisDoc)\n",
    "    print('{} classified as: {}'.format(testEntry,classifyNB(thisDoc,p0V,p1V,pAb)))\n",
    "    testEntry = ['stupid', 'garbage']\n",
    "    thisDoc = np.array(setOfWords2Vec(myVocabList, testEntry))\n",
    "#     print(thisDoc)\n",
    "    print('{} classified as: {}'.format(testEntry,classifyNB(thisDoc,p0V,p1V,pAb)))"
   ]
  },
  {
   "cell_type": "code",
   "execution_count": 90,
   "metadata": {},
   "outputs": [
    {
     "name": "stdout",
     "output_type": "stream",
     "text": [
      "this word :jinman is not in my Vocabulary!\n",
      "['love', 'my', 'dalmation', 'jinman'] classified as: 0\n",
      "['stupid', 'garbage'] classified as: 0\n"
     ]
    }
   ],
   "source": [
    "testingNB()"
   ]
  },
  {
   "cell_type": "code",
   "execution_count": 91,
   "metadata": {},
   "outputs": [
    {
     "data": {
      "text/plain": [
       "[['my', 'dog', 'has', 'flea', 'problem', 'help', 'please'],\n",
       " ['maybe', 'not', 'take', 'him', 'to', 'dog', 'park', 'stupid'],\n",
       " ['my', 'dalmation', 'is', 'so', 'cute', 'I', 'love', 'him'],\n",
       " ['stop', 'posting', 'stupid', 'worthless', 'garbage'],\n",
       " ['mr', 'licks', 'ate', 'my', 'steak', 'how', 'to', 'stop', 'him'],\n",
       " ['quit', 'buying', 'worthless', 'dog', 'food', 'stupid']]"
      ]
     },
     "execution_count": 91,
     "metadata": {},
     "output_type": "execute_result"
    }
   ],
   "source": [
    "list0Posts"
   ]
  },
  {
   "cell_type": "code",
   "execution_count": null,
   "metadata": {},
   "outputs": [],
   "source": [
    "myVocabList"
   ]
  },
  {
   "cell_type": "code",
   "execution_count": 18,
   "metadata": {},
   "outputs": [
    {
     "data": {
      "text/plain": [
       "0.5"
      ]
     },
     "execution_count": 18,
     "metadata": {},
     "output_type": "execute_result"
    }
   ],
   "source": [
    "pAb"
   ]
  },
  {
   "cell_type": "code",
   "execution_count": 20,
   "metadata": {},
   "outputs": [
    {
     "data": {
      "text/plain": [
       "array([0.04166667, 0.04166667, 0.08333333, 0.        , 0.        ,\n",
       "       0.04166667, 0.04166667, 0.04166667, 0.04166667, 0.125     ,\n",
       "       0.04166667, 0.        , 0.04166667, 0.        , 0.04166667,\n",
       "       0.04166667, 0.04166667, 0.04166667, 0.04166667, 0.        ,\n",
       "       0.04166667, 0.        , 0.04166667, 0.04166667, 0.04166667,\n",
       "       0.04166667, 0.        , 0.        , 0.        , 0.        ,\n",
       "       0.04166667, 0.        ])"
      ]
     },
     "execution_count": 20,
     "metadata": {},
     "output_type": "execute_result"
    }
   ],
   "source": [
    "p0V"
   ]
  },
  {
   "cell_type": "code",
   "execution_count": 21,
   "metadata": {},
   "outputs": [
    {
     "data": {
      "text/plain": [
       "array([0.        , 0.        , 0.05263158, 0.05263158, 0.05263158,\n",
       "       0.        , 0.        , 0.        , 0.05263158, 0.        ,\n",
       "       0.05263158, 0.05263158, 0.        , 0.10526316, 0.        ,\n",
       "       0.        , 0.        , 0.        , 0.        , 0.05263158,\n",
       "       0.        , 0.15789474, 0.10526316, 0.        , 0.        ,\n",
       "       0.        , 0.05263158, 0.05263158, 0.05263158, 0.05263158,\n",
       "       0.        , 0.05263158])"
      ]
     },
     "execution_count": 21,
     "metadata": {},
     "output_type": "execute_result"
    }
   ],
   "source": [
    "p1V"
   ]
  },
  {
   "cell_type": "code",
   "execution_count": null,
   "metadata": {},
   "outputs": [],
   "source": [
    "p0Num"
   ]
  }
 ],
 "metadata": {
  "kernelspec": {
   "display_name": "Python 3",
   "language": "python",
   "name": "python3"
  },
  "language_info": {
   "codemirror_mode": {
    "name": "ipython",
    "version": 3
   },
   "file_extension": ".py",
   "mimetype": "text/x-python",
   "name": "python",
   "nbconvert_exporter": "python",
   "pygments_lexer": "ipython3",
   "version": "3.7.3"
  }
 },
 "nbformat": 4,
 "nbformat_minor": 2
}
